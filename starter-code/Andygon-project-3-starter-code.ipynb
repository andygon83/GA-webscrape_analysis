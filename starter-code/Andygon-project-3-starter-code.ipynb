{
 "cells": [
  {
   "cell_type": "markdown",
   "metadata": {
    "focus": false,
    "id": "69b9a648-bcc7-490d-9f9b-ea244d156bd6"
   },
   "source": [
    "# Web Scraping for Indeed.com & Predicting Salaries"
   ]
  },
  {
   "cell_type": "markdown",
   "metadata": {
    "focus": false,
    "id": "34681254-c802-462f-829d-8894d0772d08"
   },
   "source": [
    "In this project, we will practice two major skills: collecting data by scraping a website and then building a binary classifier.\n",
    "\n",
    "We are going to collect salary information on data science jobs in a variety of markets. Then using the location, title, and summary of the job we will attempt to predict the salary of the job. For job posting sites, this would be extraordinarily useful. While most listings DO NOT come with salary information (as you will see in this exercise), being to able extrapolate or predict the expected salaries from other listings can help guide negotiations.\n",
    "\n",
    "Normally, we could use regression for this task; however, we will convert this problem into classification and use a random forest classifier, as well as another classifier of your choice; either logistic regression, SVM, or KNN. \n",
    "\n",
    "- **Question**: Why would we want this to be a classification problem?\n",
    "- **Answer**: While more precision may be better, there is a fair amount of natural variance in job salaries - predicting a range be may be useful.\n",
    "\n",
    "Therefore, the first part of the assignment will be focused on scraping Indeed.com. In the second, we'll focus on using listings with salary information to build a model and predict additional salaries."
   ]
  },
  {
   "cell_type": "markdown",
   "metadata": {
    "focus": false,
    "id": "a948d79c-5527-4c0d-ab23-f5d43ce72056"
   },
   "source": [
    "### Scraping job listings from Indeed.com"
   ]
  },
  {
   "cell_type": "markdown",
   "metadata": {
    "focus": true,
    "id": "7203e0c9-e437-4802-a6ad-7dc464f94436"
   },
   "source": [
    "We will be scraping job listings from Indeed.com using BeautifulSoup. Luckily, Indeed.com is a simple text page where we can easily find relevant entries.\n",
    "\n",
    "First, look at the source of an Indeed.com page: (http://www.indeed.com/jobs?q=data+scientist+%2420%2C000&l=New+York&start=10\")\n",
    "\n",
    "Notice, each job listing is underneath a `div` tag with a class name of `result`. We can use BeautifulSoup to extract those. "
   ]
  },
  {
   "cell_type": "markdown",
   "metadata": {},
   "source": [
    "#### Set up a request (using requests) to the URL below. Use BeautifulSoup to parse the page and extract all results (HINT: Look for div tags with class name result)\n",
    "The URL here has many query parameters\n",
    "- q for the job search\n",
    "- This is followed by \"+20,000\" to return results with salaries (or expected salaries >$20,000)\n",
    "- l for a location\n",
    "- start for what result number to start on"
   ]
  },
  {
   "cell_type": "code",
   "execution_count": 353,
   "metadata": {
    "collapsed": true
   },
   "outputs": [],
   "source": [
    "URL = \"https://www.indeed.com/jobs?q=Data+Scientist&l=Washington%2C+DC\"\n"
   ]
  },
  {
   "cell_type": "code",
   "execution_count": 3,
   "metadata": {
    "collapsed": true
   },
   "outputs": [],
   "source": [
    "import requests\n",
    "import bs4\n",
    "from bs4 import BeautifulSoup\n",
    "import pandas as pd\n",
    "import numpy as np\n",
    "from sklearn.externals.six import StringIO  \n",
    "from IPython.display import Image  \n",
    "from sklearn.tree import export_graphviz\n",
    "import pydotplus\n",
    "import matplotlib as plt\n",
    "import seaborn as sns\n",
    "import scipy.stats as stats\n",
    "plt.style.use('fivethirtyeight')\n",
    "\n",
    "from ipywidgets import *\n",
    "from IPython.display import display\n",
    "\n",
    "%matplotlib inline\n",
    "%config InlineBackend.figure_format = 'retina'"
   ]
  },
  {
   "cell_type": "code",
   "execution_count": null,
   "metadata": {
    "collapsed": true
   },
   "outputs": [],
   "source": [
    "html = requests.get(URL)\n",
    "soup = BeautifulSoup(html.text, 'html.parser', from_encoding=\"utf-8\")\n",
    "# soup = BeautifulSoup(html.text)\n",
    "print soup.prettify()"
   ]
  },
  {
   "cell_type": "markdown",
   "metadata": {},
   "source": [
    "Let's look at one result more closely. A single result looks like\n",
    "```JSON\n",
    "<div class=\" row result\" data-jk=\"2480d203f7e97210\" data-tn-component=\"organicJob\" id=\"p_2480d203f7e97210\" itemscope=\"\" itemtype=\"http://schema.org/JobPosting\">\n",
    "<h2 class=\"jobtitle\" id=\"jl_2480d203f7e97210\">\n",
    "<a class=\"turnstileLink\" data-tn-element=\"jobTitle\" onmousedown=\"return rclk(this,jobmap[0],1);\" rel=\"nofollow\" target=\"_blank\" title=\"AVP/Quantitative Analyst\">AVP/Quantitative Analyst</a>\n",
    "</h2>\n",
    "<span class=\"company\" itemprop=\"hiringOrganization\" itemtype=\"http://schema.org/Organization\">\n",
    "<span itemprop=\"name\">\n",
    "<a href=\"/cmp/Alliancebernstein?from=SERP&campaignid=serp-linkcompanyname&fromjk=2480d203f7e97210&jcid=b374f2a780e04789\" target=\"_blank\">\n",
    "    AllianceBernstein</a></span>\n",
    "</span>\n",
    "<tr>\n",
    "<td class=\"snip\">\n",
    "<nobr>$117,500 - $127,500 a year</nobr>\n",
    "<div>\n",
    "<span class=\"summary\" itemprop=\"description\">\n",
    "C onduct quantitative and statistical research as well as portfolio management for various investment portfolios. Collaborate with Quantitative Analysts and</span>\n",
    "</div>\n",
    "</div>\n",
    "</td>\n",
    "</tr>\n",
    "</table>\n",
    "</div>\n",
    "```"
   ]
  },
  {
   "cell_type": "markdown",
   "metadata": {},
   "source": [
    "While this has some more verbose elements removed, we can see that there is some structure to the above:\n",
    "- The salary is available in a nobr element inside of a td element with class='snip.\n",
    "- The title of a job is in a link with class set to jobtitle and a data-tn-element=\"jobTitle.\n",
    "- The location is set in a span with class='location'.\n",
    "- The company is set in a span with class='company'."
   ]
  },
  {
   "cell_type": "markdown",
   "metadata": {},
   "source": [
    "## Write 4 functions to extract these items (one function for each): location, company, job title, and salary.¶\n",
    "Example\n",
    "```python\n",
    "def extract_location_from_result(result):\n",
    "    return result.find ...\n",
    "```\n",
    "\n",
    "##### - Make sure these functions are robust and can handle cases where the data/field may not be available.\n",
    ">- Remember to check if a field is empty or None for attempting to call methods on it\n",
    ">- Remember to use try/except if you anticipate errors.\n",
    "\n",
    "- **Test** the functions on the results above and simple examples"
   ]
  },
  {
   "cell_type": "code",
   "execution_count": null,
   "metadata": {
    "collapsed": true
   },
   "outputs": [],
   "source": [
    "### First cell was my drydock for building the larger scraper. I answer all question/requirementes with this function\n",
    "## but I included a different example below on how to get the same data.\n",
    "def jobscrapper(city):\n",
    "    urlcity = city.replace(\" \", \"%2C+\")\n",
    "    \n",
    "    home_url = 'https://www.indeed.com/jobs?q=Data+Scientist&l='\n",
    "    \n",
    "    html = requests.get(home_url+urlcity)\n",
    "    soup = BeautifulSoup(html.text, 'html.parser', from_encoding=\"utf-8\")\n",
    "\n",
    "    dftest = pd.DataFrame()\n",
    "#     df.columns[\"Title\", 'Location', 'Salary', 'Company']\n",
    "    rows= []\n",
    "\n",
    "\n",
    "    \n",
    "    for i in soup.find_all(class_=' row result'):\n",
    "        try:\n",
    "            title= i.find(class_=\"jobtitle\").text.replace('\\n', '')\n",
    "        except:\n",
    "            title= np.nan\n",
    "        try:\n",
    "            location = i.find(class_='location').text.replace('\\n', '')\n",
    "        except:\n",
    "            location= np.nan\n",
    "        try:\n",
    "            company = i.find(class_='company').text.replace('\\n', '')\n",
    "        except:\n",
    "            company= np.nan\n",
    "        try:\n",
    "            salary = i.find(class_='no-wrap').text\n",
    "        except:\n",
    "            salary = np.nan\n",
    "#             company = m.text\n",
    "#         df.append('jobtitle':title, 'location':location, 'company':company)\n",
    "#         df= df.append({'Title': title, \"Location\": location, \"Salary\": salary, \"Company\": company}, ignore_index=True)\n",
    "        dftest= dftest.append({'title': title, 'location': location, 'salary': salary, 'company': company}, ignore_index=True)\n",
    "\n",
    "    print dftest.head(10)\n",
    "jobscrapper(\"new york\")"
   ]
  },
  {
   "cell_type": "code",
   "execution_count": null,
   "metadata": {
    "collapsed": true
   },
   "outputs": [],
   "source": [
    "## Example that I know how to do it the 'other' way\n",
    "def extract_loc_from_result(result):\n",
    "    locations=[]\n",
    "    for i in result.find_all(class_=\"jobtitle\"): \n",
    "        locations.append(i.text.replace('\\n', ''))\n",
    "    return locations\n",
    "    \n",
    "extract_loc_from_result(soup)\n"
   ]
  },
  {
   "cell_type": "markdown",
   "metadata": {},
   "source": [
    "Now, to scale up our scraping, we need to accumulate more results. We can do this by examining the URL above.\n",
    "- \"http://www.indeed.com/jobs?q=data+scientist+%2420%2C000&l=New+York&start=10\"\n",
    "\n",
    "There are two query parameters here we can alter to collect more results, the l=New+York and the start=10. The first controls the location of the results (so we can try a different city). The second controls where in the results to start and gives 10 results (thus, we can keep incrementing by 10 to go further in the list).\n",
    "##### Complete the following code to collect results from multiple cities and starting points.\n",
    "- Enter your city below to add it to the search\n",
    "- Remember to convert your salary to U.S. Dollars to match the other cities if the currency is different"
   ]
  },
  {
   "cell_type": "code",
   "execution_count": null,
   "metadata": {
    "collapsed": true
   },
   "outputs": [],
   "source": [
    "YOUR_CITY = 'Washington+DC'"
   ]
  },
  {
   "cell_type": "code",
   "execution_count": null,
   "metadata": {
    "collapsed": true
   },
   "outputs": [],
   "source": [
    "#I made no changes in this cell\n",
    "url_template = \"http://www.indeed.com/jobs?q=data+scientist+%2420%2C000&l={}&start={}\"\n",
    "max_results_per_city = 100 # Set this to a high-value (5000) to generate more results. \n",
    "# Crawling more results, will also take much longer. First test your code on a small number of results and then expand.\n",
    "\n",
    "results = []\n",
    "\n",
    "for city in set(['New+York', 'Chicago', 'San+Francisco', 'Austin', 'Seattle', \n",
    "    'Los+Angeles', 'Philadelphia', 'Atlanta', 'Dallas', 'Pittsburgh', \n",
    "    'Portland', 'Phoenix', 'Denver', 'Houston', 'Miami', YOUR_CITY]):\n",
    "    for start in range(0, max_results_per_city, 10):\n",
    "        # Grab the results from the request (as above)\n",
    "        # Append to the full set of results\n",
    "        pass"
   ]
  },
  {
   "cell_type": "code",
   "execution_count": null,
   "metadata": {
    "collapsed": true
   },
   "outputs": [],
   "source": [
    "## The final product scraper\n",
    "# First we set up the url template, maximum amount of pages per city searched (1 page = 10 units), instantiate the panda frame where everything is going\n",
    "url_template = 'https://www.indeed.com/jobs?q=Data+Scientist&l='\n",
    "max_results_per_city = 3500\n",
    "df= pd.DataFrame()\n",
    "\n",
    "for city in set(['New+York', 'Chicago', 'San+Francisco', 'Austin', 'Seattle', \n",
    "    'Los+Angeles', 'Philadelphia', 'Atlanta', 'Dallas', 'Pittsburgh', \n",
    "    'Portland', 'Phoenix', 'Denver', 'Houston', 'Miami', 'Washington+DC', 'Tampa+Bay', 'Orlando', 'San+Diego', 'Pasadena', 'Cleveland', \n",
    "    'Sacramento', 'New+Orleans', 'San+Antonio', 'Palm+Springs', 'Newark', \n",
    "    'Connecticut', 'Wilmington', 'Charlotte', 'Nashville', 'Oklahoma+City', 'Minneapolis', 'San+Jose', 'Jacksonville', 'Columbus', 'Ft.+Worth', 'El+Paso', \n",
    "    'Memphis', 'Baltimore', 'Las+Vegas', 'Milwaukee', 'Tucson', \n",
    "    'Kansas+City', 'Colorado+Springs', 'Raleigh', 'Arlington', 'Honolulu', 'Cincinnati', 'Omaha', 'Long+Beach', 'Louiseville', 'Virginia+Beach', 'albuquerque', 'Albuquerque', 'Tulsa', 'Detroit', \n",
    "    'Mesa', 'Fresno', 'Oakland', 'Wichita', 'Bakersfield', \n",
    "    'Anaheim', 'Santa+Ana', 'Corpus+Christi', 'Riverside', 'Lexington', 'Saint+Paul', 'Greensboro', 'Plano', 'Lincoln', 'Toledo', 'Durham', 'Norfolk', 'Richmond', 'Des+Moines', 'Little+Rock', 'Grand+Rapids']):\n",
    "    for start in range(0, max_results_per_city, 10):        ## Generates numbers from 0 in 10s increment to satisfy indeed url syntax/format\n",
    "        html = requests.get(url_template+city+\"&start=\"+str(start))   ## Connects the base url_template with the city the scraper is looking at, another format element, then the number generated in the previous line\n",
    "        soup = BeautifulSoup(html.text, 'html.parser', from_encoding=\"utf-8\")  ##Yummy soup ready to yield meaty data\n",
    "        for i in soup.find_all(class_=' row result'):         ## I point the scraper to only look at job entry blocks\n",
    "            try:\n",
    "                title= i.find(class_=\"jobtitle\").text.replace('\\n', '')   ##subset to look for job title inside of job entry block\n",
    "            except:\n",
    "                title= np.nan                                             ## Built in option for missing values and/or continue working through an error\n",
    "            try:\n",
    "                location = i.find(class_='location').text.replace('\\n', '') ## Rinse, repeat for all other elements inside of job entry block we want\n",
    "            except:\n",
    "                location= np.nan\n",
    "            try:\n",
    "                company = i.find(class_='company').text.replace('\\n', '')\n",
    "            except:\n",
    "                company= np.nan\n",
    "            try:\n",
    "                salary = i.find(class_='no-wrap').text\n",
    "            except:\n",
    "                salary = np.nan\n",
    "            try:\n",
    "                summary = i.find(class_='summary').text.replace('\\n', '')\n",
    "            except:\n",
    "                summary = np.nan\n",
    "           ## Time to append to the dataframe we instatiated before starting the loop\n",
    "            df= df.append({'title': title, 'location': location, 'salary': salary, 'company': company, 'summary': summary}, ignore_index=True)\n",
    "print df.shape  ## Check hits before I start EDA"
   ]
  },
  {
   "cell_type": "code",
   "execution_count": 3,
   "metadata": {
    "collapsed": true
   },
   "outputs": [],
   "source": [
    "## Handy dandy EDA block that catches most problems. Will be used in next cell.\n",
    "def eda(dataframe):\n",
    "    print \"missing values \\n\", dataframe.isnull().sum()\n",
    "    print \"dataframe index \\n\", dataframe.index\n",
    "    print \"dataframe types \\n\", dataframe.dtypes\n",
    "    print \"dataframe shape \\n\", dataframe.shape\n",
    "    print \"dataframe describe \\n\", dataframe.describe()\n",
    "    print \"dataframe duplicates \\n\", dataframe.duplicated().sum() \n",
    "    for item in dataframe:\n",
    "        print item\n",
    "        print dataframe[item].nunique()"
   ]
  },
  {
   "cell_type": "code",
   "execution_count": null,
   "metadata": {
    "collapsed": true
   },
   "outputs": [],
   "source": [
    "cleandf = df.drop_duplicates()\n",
    "cleandf = cleandf.dropna(subset = ['salary'])  #entries without salary data are not useful for our purposes\n",
    "eda(cleandf)"
   ]
  },
  {
   "cell_type": "code",
   "execution_count": null,
   "metadata": {
    "collapsed": true
   },
   "outputs": [],
   "source": [
    "df.to_csv('/Users/andresgonzalez/Desktop/GA/curriculum/project_3/datafinal.csv', encoding='utf-8')  # Save copy jic"
   ]
  },
  {
   "cell_type": "markdown",
   "metadata": {
    "focus": false,
    "id": "20339c09-5032-4e27-91be-286e9b46cd13"
   },
   "source": [
    "#### Use the functions you wrote above to parse out the 4 fields - location, title, company and salary. Create a dataframe from the results with those 4 columns."
   ]
  },
  {
   "cell_type": "code",
   "execution_count": null,
   "metadata": {
    "collapsed": true,
    "focus": false,
    "id": "6e259594-1c52-436b-ab9e-527e071941c1"
   },
   "outputs": [],
   "source": [
    "## I made a one stop scraper that saves those fields, plus summary, to a panda frame. Please see above."
   ]
  },
  {
   "cell_type": "markdown",
   "metadata": {
    "focus": false,
    "id": "ff98ce64-78a7-441f-a675-63464e32c834"
   },
   "source": [
    "Lastly, we need to clean up salary data. \n",
    "\n",
    "1. Only a small number of the scraped results have salary information - only these will be used for modeling.\n",
    "1. Some of the salaries are not yearly but hourly or weekly, these will not be useful to us for now\n",
    "1. Some of the entries may be duplicated\n",
    "1. The salaries are given as text and usually with ranges.\n",
    "\n",
    "#### Find the entries with annual salary entries, by filtering the entries without salaries or salaries that are not yearly (filter those that refer to hour or week). Also, remove duplicate entries"
   ]
  },
  {
   "cell_type": "code",
   "execution_count": null,
   "metadata": {
    "collapsed": true,
    "focus": false,
    "id": "58533e57-f86b-494a-b841-e7b59c6229c6"
   },
   "outputs": [],
   "source": [
    "## I performed this action above, so I wont be running this cell\n",
    "cleandf = df.drop_duplicates()\n",
    "cleandf = cleandf.dropna(subset = ['salary'])  #entries without salary data are not useful for our purposes, kept the hourly, daily, and weekly data because I can transform it into something useable\n",
    "eda(cleandf)"
   ]
  },
  {
   "cell_type": "markdown",
   "metadata": {
    "focus": false,
    "id": "7d4bc860-b214-4f75-9cd0-b234830b1ec2"
   },
   "source": [
    "#### Write a function that takes a salary string and converts it to a number, averaging a salary range if necessary"
   ]
  },
  {
   "cell_type": "code",
   "execution_count": null,
   "metadata": {
    "collapsed": true
   },
   "outputs": [],
   "source": [
    "for i in cleandf.salary:\n",
    "    i.replace('\\n', '')"
   ]
  },
  {
   "cell_type": "code",
   "execution_count": 6,
   "metadata": {
    "collapsed": true,
    "focus": false,
    "id": "a0f701e0-80bd-40ba-9101-4535860c0968"
   },
   "outputs": [],
   "source": [
    "import re\n",
    "\n",
    "# made a regex dependent function that looks for either two sets of numbers, or one number. Either way it tries to get the average of the two.\n",
    "# The function also removes the comas in the numbers and sets them as floats\n",
    "# Repeats the process for months/weekly/daily salary posting, then converts them to a yearly basis\n",
    "def salary_to_float(string):\n",
    "    if re.findall('(.*) a year', string):\n",
    "        salinter = re.findall('([0-9]+,[0-9]+|[0-9]+)', string)\n",
    "        salinter = np.mean([float(i.replace(',', '')) for i in salinter])\n",
    "        return salinter\n",
    "        \n",
    "    elif re.findall('(.*) a month', string):\n",
    "        salinter = re.findall('([0-9]+,[0-9]+|[0-9]+)', string)\n",
    "        salinter = np.mean([float(i.replace(',', '')) for i in salinter])*12\n",
    "        return salinter\n",
    "    \n",
    "    elif re.findall('(.*) a week', string):\n",
    "        salinter = re.findall('([0-9]+,[0-9]+|[0-9]+)', string)\n",
    "        salinter = np.mean([float(i.replace(',', '')) for i in salinter])*52\n",
    "        return salinter\n",
    "    \n",
    "    elif re.findall('(.*) a day', string):\n",
    "        salinter = re.findall('([0-9]+,[0-9]+|[0-9]+)', string)\n",
    "        salinter = np.mean([float(i.replace(',', '')) for i in salinter])*5*52\n",
    "        return salinter\n",
    "    \n",
    "    elif re.findall('(.*) an hour', string):\n",
    "        salinter = re.findall('([0-9]+\\.[0-9]+|[0-9]+)', string)\n",
    "        salinter = np.mean([float(i.replace(',', '')) for i in salinter])*40*52\n",
    "        return salinter\n",
    "    else:\n",
    "        return np.nan\n",
    "\n",
    "# new_data = cleandf[cleandf.salary.apply(salary_to_float)]\n",
    "# cleandf['float_salary'] = new_data\n"
   ]
  },
  {
   "cell_type": "code",
   "execution_count": null,
   "metadata": {
    "collapsed": true
   },
   "outputs": [],
   "source": [
    "new_data = cleandf.salary.apply(salary_to_float)\n",
    "cleandf['float_salary'] = new_data"
   ]
  },
  {
   "cell_type": "code",
   "execution_count": null,
   "metadata": {
    "collapsed": true
   },
   "outputs": [],
   "source": [
    "cleandf.head()"
   ]
  },
  {
   "cell_type": "markdown",
   "metadata": {
    "focus": false,
    "id": "43e71edd-210e-42b1-9336-70a931f048af"
   },
   "source": [
    "### Save your results as a CSV"
   ]
  },
  {
   "cell_type": "code",
   "execution_count": null,
   "metadata": {
    "collapsed": true,
    "focus": false,
    "id": "783fd153-28ac-47ab-bfca-27e7c1de95b4"
   },
   "outputs": [],
   "source": [
    "# Export to csv\n",
    "cleandf.to_csv('/Users/andresgonzalez/Desktop/GA/curriculum/project_3/datafinal.csv', encoding='utf-8')  # Save copy jic"
   ]
  },
  {
   "cell_type": "markdown",
   "metadata": {
    "focus": false,
    "id": "04563b69-f7b6-466f-9d65-fc62c9ddee6a"
   },
   "source": [
    "## Predicting salaries using Random Forests + Another Classifier"
   ]
  },
  {
   "cell_type": "markdown",
   "metadata": {
    "focus": false,
    "id": "243e949e-2742-40af-872e-fec475fd306c"
   },
   "source": [
    "#### Load in the the data of scraped salaries"
   ]
  },
  {
   "cell_type": "code",
   "execution_count": 4,
   "metadata": {
    "focus": false,
    "id": "588f9845-6143-4bcc-bfd1-85d45b79303d"
   },
   "outputs": [],
   "source": [
    "data = pd.read_csv('/Users/andresgonzalez/Desktop/GA/curriculum/Project_3/data1.csv') "
   ]
  },
  {
   "cell_type": "code",
   "execution_count": 7,
   "metadata": {},
   "outputs": [],
   "source": [
    "new_data = data.salary.apply(salary_to_float)\n",
    "data['float_salary'] = new_data"
   ]
  },
  {
   "cell_type": "code",
   "execution_count": 8,
   "metadata": {
    "collapsed": true
   },
   "outputs": [],
   "source": [
    "# Function to look at location series and take out state by referencing 2 consecutive capital letters\n",
    "def findstate(string):\n",
    "        return re.findall('([A-Z][A-Z])', string)\n",
    "    \n",
    "new_state = data.location.apply(findstate)\n",
    "data['state']= new_state"
   ]
  },
  {
   "cell_type": "code",
   "execution_count": 9,
   "metadata": {
    "collapsed": true
   },
   "outputs": [],
   "source": [
    "# The yield of the previous cell was a list, so i made a simple de-lister\n",
    "def dlist(lister):\n",
    "    return lister[0]\n",
    "\n",
    "data['state'] = data.state.apply(dlist)"
   ]
  },
  {
   "cell_type": "code",
   "execution_count": 59,
   "metadata": {},
   "outputs": [
    {
     "data": {
      "text/html": [
       "<div>\n",
       "<style>\n",
       "    .dataframe thead tr:only-child th {\n",
       "        text-align: right;\n",
       "    }\n",
       "\n",
       "    .dataframe thead th {\n",
       "        text-align: left;\n",
       "    }\n",
       "\n",
       "    .dataframe tbody tr th {\n",
       "        vertical-align: top;\n",
       "    }\n",
       "</style>\n",
       "<table border=\"1\" class=\"dataframe\">\n",
       "  <thead>\n",
       "    <tr style=\"text-align: right;\">\n",
       "      <th></th>\n",
       "      <th>Unnamed: 0</th>\n",
       "      <th>company</th>\n",
       "      <th>location</th>\n",
       "      <th>salary</th>\n",
       "      <th>title</th>\n",
       "      <th>float_salary</th>\n",
       "      <th>state</th>\n",
       "    </tr>\n",
       "  </thead>\n",
       "  <tbody>\n",
       "    <tr>\n",
       "      <th>0</th>\n",
       "      <td>0</td>\n",
       "      <td>MD Anderson Cancer Center</td>\n",
       "      <td>Houston, TX</td>\n",
       "      <td>$76,400 - $114,600 a year</td>\n",
       "      <td>Computational Scientist</td>\n",
       "      <td>95500.0</td>\n",
       "      <td>TX</td>\n",
       "    </tr>\n",
       "    <tr>\n",
       "      <th>1</th>\n",
       "      <td>20</td>\n",
       "      <td>Rice University</td>\n",
       "      <td>Houston, TX</td>\n",
       "      <td>$40,800 - $79,100 a year</td>\n",
       "      <td>Research Scientist</td>\n",
       "      <td>59950.0</td>\n",
       "      <td>TX</td>\n",
       "    </tr>\n",
       "    <tr>\n",
       "      <th>2</th>\n",
       "      <td>24</td>\n",
       "      <td>Baylor College of Medicine</td>\n",
       "      <td>Houston, TX</td>\n",
       "      <td>$43,794 a year</td>\n",
       "      <td>Quality Assurance Analyst (Research)</td>\n",
       "      <td>43794.0</td>\n",
       "      <td>TX</td>\n",
       "    </tr>\n",
       "    <tr>\n",
       "      <th>3</th>\n",
       "      <td>25</td>\n",
       "      <td>MD Anderson Cancer Center</td>\n",
       "      <td>Houston, TX</td>\n",
       "      <td>$66,400 - $99,600 a year</td>\n",
       "      <td>Research Statistical Analyst - Biostatistics</td>\n",
       "      <td>83000.0</td>\n",
       "      <td>TX</td>\n",
       "    </tr>\n",
       "    <tr>\n",
       "      <th>4</th>\n",
       "      <td>26</td>\n",
       "      <td>MD Anderson Cancer Center</td>\n",
       "      <td>Houston, TX</td>\n",
       "      <td>$66,400 - $99,600 a year</td>\n",
       "      <td>Research Statistical Analyst</td>\n",
       "      <td>83000.0</td>\n",
       "      <td>TX</td>\n",
       "    </tr>\n",
       "  </tbody>\n",
       "</table>\n",
       "</div>"
      ],
      "text/plain": [
       "   Unnamed: 0                         company     location  \\\n",
       "0           0       MD Anderson Cancer Center  Houston, TX   \n",
       "1          20                 Rice University  Houston, TX   \n",
       "2          24      Baylor College of Medicine  Houston, TX   \n",
       "3          25       MD Anderson Cancer Center  Houston, TX   \n",
       "4          26       MD Anderson Cancer Center  Houston, TX   \n",
       "\n",
       "                      salary                                         title  \\\n",
       "0  $76,400 - $114,600 a year                       Computational Scientist   \n",
       "1   $40,800 - $79,100 a year                            Research Scientist   \n",
       "2             $43,794 a year          Quality Assurance Analyst (Research)   \n",
       "3   $66,400 - $99,600 a year  Research Statistical Analyst - Biostatistics   \n",
       "4   $66,400 - $99,600 a year                  Research Statistical Analyst   \n",
       "\n",
       "   float_salary state  \n",
       "0       95500.0    TX  \n",
       "1       59950.0    TX  \n",
       "2       43794.0    TX  \n",
       "3       83000.0    TX  \n",
       "4       83000.0    TX  "
      ]
     },
     "execution_count": 59,
     "metadata": {},
     "output_type": "execute_result"
    }
   ],
   "source": [
    "data.head()"
   ]
  },
  {
   "cell_type": "code",
   "execution_count": 12,
   "metadata": {},
   "outputs": [
    {
     "data": {
      "image/png": "[encoded data removed]",
      "text/plain": [
       "<matplotlib.figure.Figure at 0x11ade83d0>"
      ]
     },
     "metadata": {
      "image/png": {
       "height": 522,
       "width": 705
      }
     },
     "output_type": "display_data"
    }
   ],
   "source": [
    "import matplotlib.pyplot as plt\n",
    "import seaborn as sns\n",
    "## Visualization to show why I used median over mean: Mean makes for a more extreme \n",
    "## judge of high/low, perhaps unfairly due to outliers. I know, I know, RF is non-parametric, but\n",
    "## I'm not planning on being hazy about how useless this is for resolving this class. problem\n",
    "fig, ax = plt.subplots(figsize=(10,8))\n",
    "sns.distplot(data.float_salary)\n",
    "plt.xlabel('Salary')\n",
    "plt.ylabel('Frequency')\n",
    "plt.xticks(rotation=90)\n",
    "plt.title('Distribution of Salary')\n",
    "plt.axvline(x=median, color='r')\n",
    "# plt.axvline(x=mean, color='g')\n",
    "plt.show()\n",
    "# If you have issues running this plot, make sure you run the following code cell first"
   ]
  },
  {
   "cell_type": "markdown",
   "metadata": {
    "focus": false,
    "id": "c7631f51-07f2-4c79-a093-3e9bc7849a48"
   },
   "source": [
    "#### We want to predict a binary variable - whether the salary was low or high. Compute the median salary and create a new binary variable that is true when the salary is high (above the median)\n",
    "\n",
    "We could also perform Linear Regression (or any regression) to predict the salary value here. Instead, we are going to convert this into a _binary_ classification problem, by predicting two classes, HIGH vs LOW salary.\n",
    "\n",
    "While performing regression may be better, performing classification may help remove some of the noise of the extreme salaries. We don't _have_ to choose the `median` as the splitting point - we could also split on the 75th percentile or any other reasonable breaking point.\n",
    "\n",
    "In fact, the ideal scenario may be to predict many levels of salaries, "
   ]
  },
  {
   "cell_type": "code",
   "execution_count": 11,
   "metadata": {
    "focus": false,
    "id": "c20d2498-151c-44c3-a453-3a333c79a0ac"
   },
   "outputs": [
    {
     "data": {
      "text/plain": [
       "92254.08363774735"
      ]
     },
     "execution_count": 11,
     "metadata": {},
     "output_type": "execute_result"
    }
   ],
   "source": [
    "median = np.median(data['float_salary'])\n",
    "mean = np.mean(data['float_salary'])\n",
    "mean"
   ]
  },
  {
   "cell_type": "code",
   "execution_count": 62,
   "metadata": {},
   "outputs": [
    {
     "data": {
      "text/plain": [
       "80395.25"
      ]
     },
     "execution_count": 62,
     "metadata": {},
     "output_type": "execute_result"
    }
   ],
   "source": [
    "median"
   ]
  },
  {
   "cell_type": "code",
   "execution_count": 14,
   "metadata": {
    "collapsed": true
   },
   "outputs": [],
   "source": [
    "data['salaryovermedian'] = np.where(data['float_salary'] > median, 1,0) #converting salary into a binary above median/below median"
   ]
  },
  {
   "cell_type": "code",
   "execution_count": 64,
   "metadata": {},
   "outputs": [
    {
     "data": {
      "text/html": [
       "<div>\n",
       "<style>\n",
       "    .dataframe thead tr:only-child th {\n",
       "        text-align: right;\n",
       "    }\n",
       "\n",
       "    .dataframe thead th {\n",
       "        text-align: left;\n",
       "    }\n",
       "\n",
       "    .dataframe tbody tr th {\n",
       "        vertical-align: top;\n",
       "    }\n",
       "</style>\n",
       "<table border=\"1\" class=\"dataframe\">\n",
       "  <thead>\n",
       "    <tr style=\"text-align: right;\">\n",
       "      <th></th>\n",
       "      <th>Unnamed: 0</th>\n",
       "      <th>company</th>\n",
       "      <th>location</th>\n",
       "      <th>salary</th>\n",
       "      <th>title</th>\n",
       "      <th>float_salary</th>\n",
       "      <th>state</th>\n",
       "      <th>salaryovermedian</th>\n",
       "    </tr>\n",
       "  </thead>\n",
       "  <tbody>\n",
       "    <tr>\n",
       "      <th>0</th>\n",
       "      <td>0</td>\n",
       "      <td>MD Anderson Cancer Center</td>\n",
       "      <td>Houston, TX</td>\n",
       "      <td>$76,400 - $114,600 a year</td>\n",
       "      <td>Computational Scientist</td>\n",
       "      <td>95500.0</td>\n",
       "      <td>TX</td>\n",
       "      <td>1</td>\n",
       "    </tr>\n",
       "    <tr>\n",
       "      <th>1</th>\n",
       "      <td>20</td>\n",
       "      <td>Rice University</td>\n",
       "      <td>Houston, TX</td>\n",
       "      <td>$40,800 - $79,100 a year</td>\n",
       "      <td>Research Scientist</td>\n",
       "      <td>59950.0</td>\n",
       "      <td>TX</td>\n",
       "      <td>0</td>\n",
       "    </tr>\n",
       "  </tbody>\n",
       "</table>\n",
       "</div>"
      ],
      "text/plain": [
       "   Unnamed: 0                        company     location  \\\n",
       "0           0      MD Anderson Cancer Center  Houston, TX   \n",
       "1          20                Rice University  Houston, TX   \n",
       "\n",
       "                      salary                    title  float_salary state  \\\n",
       "0  $76,400 - $114,600 a year  Computational Scientist       95500.0    TX   \n",
       "1   $40,800 - $79,100 a year       Research Scientist       59950.0    TX   \n",
       "\n",
       "   salaryovermedian  \n",
       "0                 1  \n",
       "1                 0  "
      ]
     },
     "execution_count": 64,
     "metadata": {},
     "output_type": "execute_result"
    }
   ],
   "source": [
    "data.head(2)"
   ]
  },
  {
   "cell_type": "markdown",
   "metadata": {
    "focus": false,
    "id": "a7afb2c0-d41e-4779-8216-91cd8dd4473f"
   },
   "source": [
    "#### Thought experiment: What is the baseline accuracy for this model?"
   ]
  },
  {
   "cell_type": "markdown",
   "metadata": {
    "collapsed": true,
    "focus": false,
    "id": "87a17d3d-b7f4-4747-9f75-f9af1d18a174"
   },
   "source": [
    "Fairly inaccurate considering the data suffers from sampling deficiencies. For our samples we rely on people who post\n",
    "jobs including salary data in the post, and that said salary data is accurate and not a low-ball/high-ball first offer\n",
    "to influence salary negotiations."
   ]
  },
  {
   "cell_type": "markdown",
   "metadata": {
    "focus": false,
    "id": "4fb29de2-5b98-474c-a4ad-5170b72b9aea"
   },
   "source": [
    "#### Create a Random Forest model to predict High/Low salary using Sklearn. Start by ONLY using the location as a feature. "
   ]
  },
  {
   "cell_type": "code",
   "execution_count": 15,
   "metadata": {},
   "outputs": [
    {
     "name": "stderr",
     "output_type": "stream",
     "text": [
      "/anaconda/lib/python2.7/site-packages/sklearn/cross_validation.py:44: DeprecationWarning: This module was deprecated in version 0.18 in favor of the model_selection module into which all the refactored classes and functions are moved. Also note that the interface of the new CV iterators are different from that of this module. This module will be removed in 0.20.\n",
      "  \"This module will be removed in 0.20.\", DeprecationWarning)\n"
     ]
    }
   ],
   "source": [
    "from sklearn.cross_validation import cross_val_score\n",
    "from sklearn.ensemble import RandomForestClassifier\n",
    "from sklearn.metrics import accuracy_score\n",
    "from sklearn.model_selection import train_test_split"
   ]
  },
  {
   "cell_type": "code",
   "execution_count": 16,
   "metadata": {},
   "outputs": [
    {
     "data": {
      "text/html": [
       "<div>\n",
       "<style>\n",
       "    .dataframe thead tr:only-child th {\n",
       "        text-align: right;\n",
       "    }\n",
       "\n",
       "    .dataframe thead th {\n",
       "        text-align: left;\n",
       "    }\n",
       "\n",
       "    .dataframe tbody tr th {\n",
       "        vertical-align: top;\n",
       "    }\n",
       "</style>\n",
       "<table border=\"1\" class=\"dataframe\">\n",
       "  <thead>\n",
       "    <tr style=\"text-align: right;\">\n",
       "      <th></th>\n",
       "      <th>Unnamed: 0</th>\n",
       "      <th>company</th>\n",
       "      <th>location</th>\n",
       "      <th>salary</th>\n",
       "      <th>title</th>\n",
       "      <th>float_salary</th>\n",
       "      <th>state</th>\n",
       "      <th>salaryovermedian</th>\n",
       "    </tr>\n",
       "  </thead>\n",
       "  <tbody>\n",
       "    <tr>\n",
       "      <th>485</th>\n",
       "      <td>30082</td>\n",
       "      <td>Department of the Air Force</td>\n",
       "      <td>Lackland AFB, TX</td>\n",
       "      <td>$85,816 - $131,833 a year</td>\n",
       "      <td>HYDROLOGIST</td>\n",
       "      <td>108824.5</td>\n",
       "      <td>AF</td>\n",
       "      <td>1</td>\n",
       "    </tr>\n",
       "    <tr>\n",
       "      <th>650</th>\n",
       "      <td>29358</td>\n",
       "      <td>Department of the Air Force</td>\n",
       "      <td>Peterson AFB, CO</td>\n",
       "      <td>$40,033 - $52,043 a year</td>\n",
       "      <td>Operations Research Analyst (EHA-ACQ-DAWDF)</td>\n",
       "      <td>46038.0</td>\n",
       "      <td>AF</td>\n",
       "      <td>0</td>\n",
       "    </tr>\n",
       "    <tr>\n",
       "      <th>1233</th>\n",
       "      <td>51830</td>\n",
       "      <td>Department of the Air Force</td>\n",
       "      <td>Kirtland AFB, NM</td>\n",
       "      <td>$40,033 - $52,043 a year</td>\n",
       "      <td>Physicist, GS-1310-7-Palace Acquire Intern</td>\n",
       "      <td>46038.0</td>\n",
       "      <td>AF</td>\n",
       "      <td>0</td>\n",
       "    </tr>\n",
       "  </tbody>\n",
       "</table>\n",
       "</div>"
      ],
      "text/plain": [
       "      Unnamed: 0                          company          location  \\\n",
       "485        30082      Department of the Air Force  Lackland AFB, TX   \n",
       "650        29358      Department of the Air Force  Peterson AFB, CO   \n",
       "1233       51830      Department of the Air Force  Kirtland AFB, NM   \n",
       "\n",
       "                         salary                                        title  \\\n",
       "485   $85,816 - $131,833 a year                                  HYDROLOGIST   \n",
       "650    $40,033 - $52,043 a year  Operations Research Analyst (EHA-ACQ-DAWDF)   \n",
       "1233   $40,033 - $52,043 a year   Physicist, GS-1310-7-Palace Acquire Intern   \n",
       "\n",
       "      float_salary state  salaryovermedian  \n",
       "485       108824.5    AF                 1  \n",
       "650        46038.0    AF                 0  \n",
       "1233       46038.0    AF                 0  "
      ]
     },
     "execution_count": 16,
     "metadata": {},
     "output_type": "execute_result"
    }
   ],
   "source": [
    "data[data['state']== 'AF']"
   ]
  },
  {
   "cell_type": "code",
   "execution_count": 17,
   "metadata": {
    "collapsed": true
   },
   "outputs": [],
   "source": [
    "data.iloc[485,6] = 'TX'  ### fixing what my regex expression failed to capture in the states before I make dummies\n",
    "data.iloc[650,6] = 'CO'\n",
    "data.iloc[1233,6] = 'NM'"
   ]
  },
  {
   "cell_type": "code",
   "execution_count": null,
   "metadata": {
    "collapsed": true
   },
   "outputs": [],
   "source": []
  },
  {
   "cell_type": "code",
   "execution_count": 18,
   "metadata": {},
   "outputs": [
    {
     "data": {
      "text/html": [
       "<div>\n",
       "<style>\n",
       "    .dataframe thead tr:only-child th {\n",
       "        text-align: right;\n",
       "    }\n",
       "\n",
       "    .dataframe thead th {\n",
       "        text-align: left;\n",
       "    }\n",
       "\n",
       "    .dataframe tbody tr th {\n",
       "        vertical-align: top;\n",
       "    }\n",
       "</style>\n",
       "<table border=\"1\" class=\"dataframe\">\n",
       "  <thead>\n",
       "    <tr style=\"text-align: right;\">\n",
       "      <th></th>\n",
       "      <th>Unnamed: 0</th>\n",
       "      <th>company</th>\n",
       "      <th>location</th>\n",
       "      <th>salary</th>\n",
       "      <th>title</th>\n",
       "      <th>float_salary</th>\n",
       "      <th>state</th>\n",
       "      <th>salaryovermedian</th>\n",
       "      <th>AZ</th>\n",
       "      <th>CA</th>\n",
       "      <th>...</th>\n",
       "      <th>NY</th>\n",
       "      <th>OH</th>\n",
       "      <th>OK</th>\n",
       "      <th>OR</th>\n",
       "      <th>PA</th>\n",
       "      <th>TN</th>\n",
       "      <th>TX</th>\n",
       "      <th>VA</th>\n",
       "      <th>WA</th>\n",
       "      <th>WI</th>\n",
       "    </tr>\n",
       "  </thead>\n",
       "  <tbody>\n",
       "    <tr>\n",
       "      <th>0</th>\n",
       "      <td>0</td>\n",
       "      <td>MD Anderson Cancer Center</td>\n",
       "      <td>Houston, TX</td>\n",
       "      <td>$76,400 - $114,600 a year</td>\n",
       "      <td>Computational Scientist</td>\n",
       "      <td>95500.0</td>\n",
       "      <td>TX</td>\n",
       "      <td>1</td>\n",
       "      <td>0</td>\n",
       "      <td>0</td>\n",
       "      <td>...</td>\n",
       "      <td>0</td>\n",
       "      <td>0</td>\n",
       "      <td>0</td>\n",
       "      <td>0</td>\n",
       "      <td>0</td>\n",
       "      <td>0</td>\n",
       "      <td>1</td>\n",
       "      <td>0</td>\n",
       "      <td>0</td>\n",
       "      <td>0</td>\n",
       "    </tr>\n",
       "    <tr>\n",
       "      <th>1</th>\n",
       "      <td>20</td>\n",
       "      <td>Rice University</td>\n",
       "      <td>Houston, TX</td>\n",
       "      <td>$40,800 - $79,100 a year</td>\n",
       "      <td>Research Scientist</td>\n",
       "      <td>59950.0</td>\n",
       "      <td>TX</td>\n",
       "      <td>0</td>\n",
       "      <td>0</td>\n",
       "      <td>0</td>\n",
       "      <td>...</td>\n",
       "      <td>0</td>\n",
       "      <td>0</td>\n",
       "      <td>0</td>\n",
       "      <td>0</td>\n",
       "      <td>0</td>\n",
       "      <td>0</td>\n",
       "      <td>1</td>\n",
       "      <td>0</td>\n",
       "      <td>0</td>\n",
       "      <td>0</td>\n",
       "    </tr>\n",
       "    <tr>\n",
       "      <th>2</th>\n",
       "      <td>24</td>\n",
       "      <td>Baylor College of Medicine</td>\n",
       "      <td>Houston, TX</td>\n",
       "      <td>$43,794 a year</td>\n",
       "      <td>Quality Assurance Analyst (Research)</td>\n",
       "      <td>43794.0</td>\n",
       "      <td>TX</td>\n",
       "      <td>0</td>\n",
       "      <td>0</td>\n",
       "      <td>0</td>\n",
       "      <td>...</td>\n",
       "      <td>0</td>\n",
       "      <td>0</td>\n",
       "      <td>0</td>\n",
       "      <td>0</td>\n",
       "      <td>0</td>\n",
       "      <td>0</td>\n",
       "      <td>1</td>\n",
       "      <td>0</td>\n",
       "      <td>0</td>\n",
       "      <td>0</td>\n",
       "    </tr>\n",
       "    <tr>\n",
       "      <th>3</th>\n",
       "      <td>25</td>\n",
       "      <td>MD Anderson Cancer Center</td>\n",
       "      <td>Houston, TX</td>\n",
       "      <td>$66,400 - $99,600 a year</td>\n",
       "      <td>Research Statistical Analyst - Biostatistics</td>\n",
       "      <td>83000.0</td>\n",
       "      <td>TX</td>\n",
       "      <td>1</td>\n",
       "      <td>0</td>\n",
       "      <td>0</td>\n",
       "      <td>...</td>\n",
       "      <td>0</td>\n",
       "      <td>0</td>\n",
       "      <td>0</td>\n",
       "      <td>0</td>\n",
       "      <td>0</td>\n",
       "      <td>0</td>\n",
       "      <td>1</td>\n",
       "      <td>0</td>\n",
       "      <td>0</td>\n",
       "      <td>0</td>\n",
       "    </tr>\n",
       "    <tr>\n",
       "      <th>4</th>\n",
       "      <td>26</td>\n",
       "      <td>MD Anderson Cancer Center</td>\n",
       "      <td>Houston, TX</td>\n",
       "      <td>$66,400 - $99,600 a year</td>\n",
       "      <td>Research Statistical Analyst</td>\n",
       "      <td>83000.0</td>\n",
       "      <td>TX</td>\n",
       "      <td>1</td>\n",
       "      <td>0</td>\n",
       "      <td>0</td>\n",
       "      <td>...</td>\n",
       "      <td>0</td>\n",
       "      <td>0</td>\n",
       "      <td>0</td>\n",
       "      <td>0</td>\n",
       "      <td>0</td>\n",
       "      <td>0</td>\n",
       "      <td>1</td>\n",
       "      <td>0</td>\n",
       "      <td>0</td>\n",
       "      <td>0</td>\n",
       "    </tr>\n",
       "  </tbody>\n",
       "</table>\n",
       "<p>5 rows × 41 columns</p>\n",
       "</div>"
      ],
      "text/plain": [
       "   Unnamed: 0                         company     location  \\\n",
       "0           0       MD Anderson Cancer Center  Houston, TX   \n",
       "1          20                 Rice University  Houston, TX   \n",
       "2          24      Baylor College of Medicine  Houston, TX   \n",
       "3          25       MD Anderson Cancer Center  Houston, TX   \n",
       "4          26       MD Anderson Cancer Center  Houston, TX   \n",
       "\n",
       "                      salary                                         title  \\\n",
       "0  $76,400 - $114,600 a year                       Computational Scientist   \n",
       "1   $40,800 - $79,100 a year                            Research Scientist   \n",
       "2             $43,794 a year          Quality Assurance Analyst (Research)   \n",
       "3   $66,400 - $99,600 a year  Research Statistical Analyst - Biostatistics   \n",
       "4   $66,400 - $99,600 a year                  Research Statistical Analyst   \n",
       "\n",
       "   float_salary state  salaryovermedian  AZ  CA ...  NY  OH  OK  OR  PA  TN  \\\n",
       "0       95500.0    TX                 1   0   0 ...   0   0   0   0   0   0   \n",
       "1       59950.0    TX                 0   0   0 ...   0   0   0   0   0   0   \n",
       "2       43794.0    TX                 0   0   0 ...   0   0   0   0   0   0   \n",
       "3       83000.0    TX                 1   0   0 ...   0   0   0   0   0   0   \n",
       "4       83000.0    TX                 1   0   0 ...   0   0   0   0   0   0   \n",
       "\n",
       "   TX  VA  WA  WI  \n",
       "0   1   0   0   0  \n",
       "1   1   0   0   0  \n",
       "2   1   0   0   0  \n",
       "3   1   0   0   0  \n",
       "4   1   0   0   0  \n",
       "\n",
       "[5 rows x 41 columns]"
      ]
     },
     "execution_count": 18,
     "metadata": {},
     "output_type": "execute_result"
    }
   ],
   "source": [
    "# Set up dummies to represent state location data\n",
    "statedummies = pd.get_dummies(data['state'])\n",
    "datandummies = pd.concat([data, statedummies], axis=1)\n",
    "datandummies.head()"
   ]
  },
  {
   "cell_type": "code",
   "execution_count": 20,
   "metadata": {
    "collapsed": true,
    "focus": false,
    "id": "ddbc6159-6854-4ca7-857f-bfecdaf6d9c2"
   },
   "outputs": [],
   "source": [
    "# Set up my Xs and Ys to carry out train_test_split and build my model\n",
    "y = datandummies['salaryovermedian']\n",
    "X = datandummies.drop(['Unnamed: 0', 'company', 'location', 'salary', 'title', 'float_salary', 'state', 'salaryovermedian'], axis=1)\n",
    "\n",
    "X_trainrf, X_testrf, y_trainrf, y_testrf = train_test_split(X, y, test_size=.3, random_state=66)"
   ]
  },
  {
   "cell_type": "code",
   "execution_count": 21,
   "metadata": {},
   "outputs": [
    {
     "name": "stdout",
     "output_type": "stream",
     "text": [
      "0.636531923604 0.024561774785\n",
      "0.625316455696\n"
     ]
    }
   ],
   "source": [
    "#Standard random forest using state and salary data. Barely more accurate than random guess\n",
    "dtrf = RandomForestClassifier()\n",
    "dtrf.fit(X_trainrf, y_trainrf)\n",
    "y_pred = dtrf.predict(X_testrf)\n",
    "s = cross_val_score(dtrf, X_trainrf, y_trainrf)\n",
    "acc = accuracy_score(y_testrf, y_pred)\n",
    "\n",
    "print s.mean(), s.std()\n",
    "print acc"
   ]
  },
  {
   "cell_type": "code",
   "execution_count": 22,
   "metadata": {
    "collapsed": true
   },
   "outputs": [],
   "source": [
    "## Pulling out an excel spreadsheet for Tableau visualizations\n",
    "locationdf = pd.DataFrame(dtrf.feature_importances_)\n",
    "\n",
    "states = X.columns.tolist()\n",
    "\n",
    "sindex = pd.DataFrame(states)\n",
    "locdfinal = pd.concat((sindex, locationdf), axis=1)\n",
    "\n",
    "locdfinal.columns = ['feature', 'importance']\n",
    "\n",
    "locdfinal.to_excel('/Users/andresgonzalez/Desktop/GA/curriculum/project_3/tableau.xlsx', encoding='utf-8')  "
   ]
  },
  {
   "cell_type": "markdown",
   "metadata": {
    "focus": false,
    "id": "0ef04f32-419c-4bf2-baf7-48201f03df89"
   },
   "source": [
    "#### Create a few new variables in your dataframe to represent interesting features of a job title.\n",
    "- For example, create a feature that represents whether 'Senior' is in the title or whether 'Manager' is in the title. \n",
    "- Then build a new Random Forest with these features. Do they add any value?\n",
    "- After creating these variables, use count-vectorizer to create features based on the words in the job titles.\n",
    "- Build a new random forest model with location and these new features included."
   ]
  },
  {
   "cell_type": "code",
   "execution_count": 23,
   "metadata": {
    "collapsed": true
   },
   "outputs": [],
   "source": [
    "datandummies.title = datandummies.title.str.lower()"
   ]
  },
  {
   "cell_type": "code",
   "execution_count": 24,
   "metadata": {
    "collapsed": true
   },
   "outputs": [],
   "source": [
    "## Used string.contains to make certain words or terms into features usable in a logistic classification model\n",
    "datandummies['Analyst'] = False\n",
    "datandummies.Analyst = datandummies['title'].str.contains('analyst')\n",
    "\n",
    "datandummies.Analyst.fillna(value = False, inplace = True)\n"
   ]
  },
  {
   "cell_type": "code",
   "execution_count": 25,
   "metadata": {
    "collapsed": true
   },
   "outputs": [],
   "source": [
    "datandummies.Analyst = datandummies.Analyst.astype(int)"
   ]
  },
  {
   "cell_type": "code",
   "execution_count": 26,
   "metadata": {
    "collapsed": true
   },
   "outputs": [],
   "source": [
    "# Rinse/repeat for other features\n",
    "datandummies['Senman'] = False\n",
    "datandummies.Senman = datandummies['title'].str.contains('senior|manager|sr|mng|mngr|mgr')\n",
    "\n",
    "datandummies.Senman.fillna(value = False, inplace = True)"
   ]
  },
  {
   "cell_type": "code",
   "execution_count": 27,
   "metadata": {
    "collapsed": true
   },
   "outputs": [],
   "source": [
    "datandummies.Senman = datandummies.Senman.astype(int)"
   ]
  },
  {
   "cell_type": "code",
   "execution_count": 28,
   "metadata": {
    "collapsed": true
   },
   "outputs": [],
   "source": [
    "datandummies['Research'] = False\n",
    "datandummies.Research = datandummies['title'].str.contains('research|rsrch')\n",
    "\n",
    "datandummies.Research.fillna(value = False, inplace = True)"
   ]
  },
  {
   "cell_type": "code",
   "execution_count": 29,
   "metadata": {
    "collapsed": true
   },
   "outputs": [],
   "source": [
    "datandummies.Research = datandummies.Research.astype(int)"
   ]
  },
  {
   "cell_type": "code",
   "execution_count": 30,
   "metadata": {
    "collapsed": true
   },
   "outputs": [],
   "source": [
    "datandummies['Associate'] = False\n",
    "datandummies.Associate = datandummies['title'].str.contains('associate|assc')\n",
    "\n",
    "datandummies.Associate.fillna(value = False, inplace = True)"
   ]
  },
  {
   "cell_type": "code",
   "execution_count": 31,
   "metadata": {
    "collapsed": true
   },
   "outputs": [],
   "source": [
    "datandummies.Associate = datandummies.Associate.astype(int)"
   ]
  },
  {
   "cell_type": "code",
   "execution_count": 32,
   "metadata": {},
   "outputs": [
    {
     "data": {
      "text/html": [
       "<div>\n",
       "<style>\n",
       "    .dataframe thead tr:only-child th {\n",
       "        text-align: right;\n",
       "    }\n",
       "\n",
       "    .dataframe thead th {\n",
       "        text-align: left;\n",
       "    }\n",
       "\n",
       "    .dataframe tbody tr th {\n",
       "        vertical-align: top;\n",
       "    }\n",
       "</style>\n",
       "<table border=\"1\" class=\"dataframe\">\n",
       "  <thead>\n",
       "    <tr style=\"text-align: right;\">\n",
       "      <th></th>\n",
       "      <th>Unnamed: 0</th>\n",
       "      <th>company</th>\n",
       "      <th>location</th>\n",
       "      <th>salary</th>\n",
       "      <th>title</th>\n",
       "      <th>float_salary</th>\n",
       "      <th>state</th>\n",
       "      <th>salaryovermedian</th>\n",
       "      <th>AZ</th>\n",
       "      <th>CA</th>\n",
       "      <th>...</th>\n",
       "      <th>PA</th>\n",
       "      <th>TN</th>\n",
       "      <th>TX</th>\n",
       "      <th>VA</th>\n",
       "      <th>WA</th>\n",
       "      <th>WI</th>\n",
       "      <th>Analyst</th>\n",
       "      <th>Senman</th>\n",
       "      <th>Research</th>\n",
       "      <th>Associate</th>\n",
       "    </tr>\n",
       "  </thead>\n",
       "  <tbody>\n",
       "    <tr>\n",
       "      <th>0</th>\n",
       "      <td>0</td>\n",
       "      <td>MD Anderson Cancer Center</td>\n",
       "      <td>Houston, TX</td>\n",
       "      <td>$76,400 - $114,600 a year</td>\n",
       "      <td>computational scientist</td>\n",
       "      <td>95500.0</td>\n",
       "      <td>TX</td>\n",
       "      <td>1</td>\n",
       "      <td>0</td>\n",
       "      <td>0</td>\n",
       "      <td>...</td>\n",
       "      <td>0</td>\n",
       "      <td>0</td>\n",
       "      <td>1</td>\n",
       "      <td>0</td>\n",
       "      <td>0</td>\n",
       "      <td>0</td>\n",
       "      <td>0</td>\n",
       "      <td>0</td>\n",
       "      <td>0</td>\n",
       "      <td>0</td>\n",
       "    </tr>\n",
       "    <tr>\n",
       "      <th>1</th>\n",
       "      <td>20</td>\n",
       "      <td>Rice University</td>\n",
       "      <td>Houston, TX</td>\n",
       "      <td>$40,800 - $79,100 a year</td>\n",
       "      <td>research scientist</td>\n",
       "      <td>59950.0</td>\n",
       "      <td>TX</td>\n",
       "      <td>0</td>\n",
       "      <td>0</td>\n",
       "      <td>0</td>\n",
       "      <td>...</td>\n",
       "      <td>0</td>\n",
       "      <td>0</td>\n",
       "      <td>1</td>\n",
       "      <td>0</td>\n",
       "      <td>0</td>\n",
       "      <td>0</td>\n",
       "      <td>0</td>\n",
       "      <td>0</td>\n",
       "      <td>1</td>\n",
       "      <td>0</td>\n",
       "    </tr>\n",
       "  </tbody>\n",
       "</table>\n",
       "<p>2 rows × 45 columns</p>\n",
       "</div>"
      ],
      "text/plain": [
       "   Unnamed: 0                        company     location  \\\n",
       "0           0      MD Anderson Cancer Center  Houston, TX   \n",
       "1          20                Rice University  Houston, TX   \n",
       "\n",
       "                      salary                    title  float_salary state  \\\n",
       "0  $76,400 - $114,600 a year  computational scientist       95500.0    TX   \n",
       "1   $40,800 - $79,100 a year       research scientist       59950.0    TX   \n",
       "\n",
       "   salaryovermedian  AZ  CA    ...      PA  TN  TX  VA  WA  WI  Analyst  \\\n",
       "0                 1   0   0    ...       0   0   1   0   0   0        0   \n",
       "1                 0   0   0    ...       0   0   1   0   0   0        0   \n",
       "\n",
       "   Senman  Research  Associate  \n",
       "0       0         0          0  \n",
       "1       0         1          0  \n",
       "\n",
       "[2 rows x 45 columns]"
      ]
     },
     "execution_count": 32,
     "metadata": {},
     "output_type": "execute_result"
    }
   ],
   "source": [
    "datandummies.head(2)"
   ]
  },
  {
   "cell_type": "code",
   "execution_count": 33,
   "metadata": {
    "collapsed": true
   },
   "outputs": [],
   "source": [
    "#Again produce Xs and Ys for train_test_split and model building\n",
    "y1 = datandummies['salaryovermedian']\n",
    "X1 = datandummies.drop(['Unnamed: 0', 'company', 'location', 'salary', 'title', 'float_salary', 'state', 'salaryovermedian'], axis=1)\n",
    "\n",
    "X_trainrf1, X_testrf1, y_trainrf1, y_testrf1 = train_test_split(X1, y1, test_size=.3, random_state=66)"
   ]
  },
  {
   "cell_type": "code",
   "execution_count": 34,
   "metadata": {},
   "outputs": [
    {
     "name": "stdout",
     "output_type": "stream",
     "text": [
      "0.747565903063 0.00480675217344\n",
      "0.736708860759\n"
     ]
    }
   ],
   "source": [
    "#Random Forest of state and a few common job title terms. Still, significant improvement in accuracy\n",
    "dtrf1 = RandomForestClassifier()\n",
    "dtrf1.fit(X_trainrf1, y_trainrf1)\n",
    "y_pred1 = dtrf1.predict(X_testrf1)\n",
    "s1 = cross_val_score(dtrf1, X_trainrf1, y_trainrf1)\n",
    "acc1 = accuracy_score(y_testrf1, y_pred1)\n",
    "\n",
    "print s1.mean(), s1.std()\n",
    "print acc1"
   ]
  },
  {
   "cell_type": "code",
   "execution_count": 35,
   "metadata": {
    "collapsed": true
   },
   "outputs": [],
   "source": [
    "from sklearn.feature_extraction.text import CountVectorizer"
   ]
  },
  {
   "cell_type": "code",
   "execution_count": 36,
   "metadata": {
    "collapsed": true
   },
   "outputs": [],
   "source": [
    "# Setting up Count Vectorizer and pointing it at the jobtitle column as corpus. ngrams at 1,2 to check pairs of words as well\n",
    "corpus = datandummies.title\n",
    "cvec = CountVectorizer(ngram_range=(1, 2))\n",
    "cvec.fit(corpus)\n",
    "# Take the vectorize result and make it into a panda ready to be used in a model\n",
    "X_train = pd.DataFrame(cvec.transform(corpus).todense(),\n",
    "                       columns=cvec.get_feature_names())\n"
   ]
  },
  {
   "cell_type": "code",
   "execution_count": 37,
   "metadata": {
    "collapsed": true
   },
   "outputs": [],
   "source": [
    "X_traincvloc = pd.concat([X_train, X], axis=1)\n"
   ]
  },
  {
   "cell_type": "code",
   "execution_count": 38,
   "metadata": {
    "collapsed": true
   },
   "outputs": [],
   "source": [
    "X_trainrf2, X_testrf2, y_trainrf2, y_testrf2 = train_test_split(X_traincvloc, y1, test_size=.3, random_state=66)"
   ]
  },
  {
   "cell_type": "code",
   "execution_count": 39,
   "metadata": {},
   "outputs": [
    {
     "data": {
      "text/plain": [
       "(   000  0101  0101 0180  014  0180  0180 0801  03226  03226 17  05  05 06  \\\n",
       " 0    0     0          0    0     0          0      0         0   0      0   \n",
       " 1    0     0          0    0     0          0      0         0   0      0   \n",
       " \n",
       "    ...   yard line  youth  youth famil  zp  zp 1301  딥러닝  딥러닝 machine  머신러닝  \\\n",
       " 0  ...           0      0            0   0        0    0            0     0   \n",
       " 1  ...           0      0            0   0        0    0            0     0   \n",
       " \n",
       "    머신러닝 엔지니어  엔지니어  \n",
       " 0          0     0  \n",
       " 1          0     0  \n",
       " \n",
       " [2 rows x 2176 columns], (1314, 2176), (1314, 45))"
      ]
     },
     "execution_count": 39,
     "metadata": {},
     "output_type": "execute_result"
    }
   ],
   "source": [
    "X_train.head(2), X_train.shape, datandummies.shape"
   ]
  },
  {
   "cell_type": "code",
   "execution_count": 40,
   "metadata": {},
   "outputs": [
    {
     "name": "stdout",
     "output_type": "stream",
     "text": [
      "0.861800252754 0.0160785430916\n",
      "0.896202531646\n"
     ]
    }
   ],
   "source": [
    "# Building and scoring the new forest. .89 accuracy score is much more like it.\n",
    "dtrf2 = RandomForestClassifier()\n",
    "dtrf2.fit(X_trainrf2, y_trainrf2)\n",
    "y_pred2 = dtrf2.predict(X_testrf2)\n",
    "\n",
    "s2 = cross_val_score(dtrf2, X_trainrf2, y_trainrf2)\n",
    "acc2 = accuracy_score(y_testrf2, y_pred2)\n",
    "\n",
    "print s2.mean(), s2.std()\n",
    "print acc2"
   ]
  },
  {
   "cell_type": "code",
   "execution_count": 41,
   "metadata": {
    "collapsed": true
   },
   "outputs": [
    {
     "data": {
      "text/html": [
       "<div>\n",
       "<style>\n",
       "    .dataframe thead tr:only-child th {\n",
       "        text-align: right;\n",
       "    }\n",
       "\n",
       "    .dataframe thead th {\n",
       "        text-align: left;\n",
       "    }\n",
       "\n",
       "    .dataframe tbody tr th {\n",
       "        vertical-align: top;\n",
       "    }\n",
       "</style>\n",
       "<table border=\"1\" class=\"dataframe\">\n",
       "  <thead>\n",
       "    <tr style=\"text-align: right;\">\n",
       "      <th></th>\n",
       "      <th>feature</th>\n",
       "      <th>importance</th>\n",
       "    </tr>\n",
       "    <tr>\n",
       "      <th>feature</th>\n",
       "      <th></th>\n",
       "      <th></th>\n",
       "    </tr>\n",
       "  </thead>\n",
       "  <tbody>\n",
       "    <tr>\n",
       "      <th>000</th>\n",
       "      <td>000</td>\n",
       "      <td>5.443425e-04</td>\n",
       "    </tr>\n",
       "    <tr>\n",
       "      <th>0101</th>\n",
       "      <td>0101</td>\n",
       "      <td>0.000000e+00</td>\n",
       "    </tr>\n",
       "    <tr>\n",
       "      <th>0101 0180</th>\n",
       "      <td>0101 0180</td>\n",
       "      <td>0.000000e+00</td>\n",
       "    </tr>\n",
       "    <tr>\n",
       "      <th>014</th>\n",
       "      <td>014</td>\n",
       "      <td>0.000000e+00</td>\n",
       "    </tr>\n",
       "    <tr>\n",
       "      <th>0180</th>\n",
       "      <td>0180</td>\n",
       "      <td>0.000000e+00</td>\n",
       "    </tr>\n",
       "    <tr>\n",
       "      <th>0180 0801</th>\n",
       "      <td>0180 0801</td>\n",
       "      <td>0.000000e+00</td>\n",
       "    </tr>\n",
       "    <tr>\n",
       "      <th>03226</th>\n",
       "      <td>03226</td>\n",
       "      <td>7.014818e-05</td>\n",
       "    </tr>\n",
       "    <tr>\n",
       "      <th>03226 17</th>\n",
       "      <td>03226 17</td>\n",
       "      <td>0.000000e+00</td>\n",
       "    </tr>\n",
       "    <tr>\n",
       "      <th>05</th>\n",
       "      <td>05</td>\n",
       "      <td>0.000000e+00</td>\n",
       "    </tr>\n",
       "    <tr>\n",
       "      <th>05 06</th>\n",
       "      <td>05 06</td>\n",
       "      <td>0.000000e+00</td>\n",
       "    </tr>\n",
       "    <tr>\n",
       "      <th>05 de</th>\n",
       "      <td>05 de</td>\n",
       "      <td>0.000000e+00</td>\n",
       "    </tr>\n",
       "    <tr>\n",
       "      <th>06</th>\n",
       "      <td>06</td>\n",
       "      <td>0.000000e+00</td>\n",
       "    </tr>\n",
       "    <tr>\n",
       "      <th>06 deu</th>\n",
       "      <td>06 deu</td>\n",
       "      <td>0.000000e+00</td>\n",
       "    </tr>\n",
       "    <tr>\n",
       "      <th>07</th>\n",
       "      <td>07</td>\n",
       "      <td>0.000000e+00</td>\n",
       "    </tr>\n",
       "    <tr>\n",
       "      <th>07 10</th>\n",
       "      <td>07 10</td>\n",
       "      <td>0.000000e+00</td>\n",
       "    </tr>\n",
       "    <tr>\n",
       "      <th>071917</th>\n",
       "      <td>071917</td>\n",
       "      <td>2.232522e-07</td>\n",
       "    </tr>\n",
       "    <tr>\n",
       "      <th>071917 16</th>\n",
       "      <td>071917 16</td>\n",
       "      <td>0.000000e+00</td>\n",
       "    </tr>\n",
       "    <tr>\n",
       "      <th>0801</th>\n",
       "      <td>0801</td>\n",
       "      <td>0.000000e+00</td>\n",
       "    </tr>\n",
       "    <tr>\n",
       "      <th>0801 1550</th>\n",
       "      <td>0801 1550</td>\n",
       "      <td>0.000000e+00</td>\n",
       "    </tr>\n",
       "    <tr>\n",
       "      <th>09</th>\n",
       "      <td>09</td>\n",
       "      <td>0.000000e+00</td>\n",
       "    </tr>\n",
       "    <tr>\n",
       "      <th>09 11</th>\n",
       "      <td>09 11</td>\n",
       "      <td>0.000000e+00</td>\n",
       "    </tr>\n",
       "    <tr>\n",
       "      <th>10</th>\n",
       "      <td>10</td>\n",
       "      <td>2.454122e-04</td>\n",
       "    </tr>\n",
       "    <tr>\n",
       "      <th>10 it</th>\n",
       "      <td>10 it</td>\n",
       "      <td>0.000000e+00</td>\n",
       "    </tr>\n",
       "    <tr>\n",
       "      <th>11</th>\n",
       "      <td>11</td>\n",
       "      <td>4.847112e-04</td>\n",
       "    </tr>\n",
       "    <tr>\n",
       "      <th>11 12</th>\n",
       "      <td>11 12</td>\n",
       "      <td>0.000000e+00</td>\n",
       "    </tr>\n",
       "    <tr>\n",
       "      <th>11 public</th>\n",
       "      <td>11 public</td>\n",
       "      <td>0.000000e+00</td>\n",
       "    </tr>\n",
       "    <tr>\n",
       "      <th>12</th>\n",
       "      <td>12</td>\n",
       "      <td>0.000000e+00</td>\n",
       "    </tr>\n",
       "    <tr>\n",
       "      <th>12 13</th>\n",
       "      <td>12 13</td>\n",
       "      <td>0.000000e+00</td>\n",
       "    </tr>\n",
       "    <tr>\n",
       "      <th>12 deu</th>\n",
       "      <td>12 deu</td>\n",
       "      <td>0.000000e+00</td>\n",
       "    </tr>\n",
       "    <tr>\n",
       "      <th>12726</th>\n",
       "      <td>12726</td>\n",
       "      <td>2.209134e-04</td>\n",
       "    </tr>\n",
       "    <tr>\n",
       "      <th>...</th>\n",
       "      <td>...</td>\n",
       "      <td>...</td>\n",
       "    </tr>\n",
       "    <tr>\n",
       "      <th>CT</th>\n",
       "      <td>CT</td>\n",
       "      <td>9.808302e-04</td>\n",
       "    </tr>\n",
       "    <tr>\n",
       "      <th>DC</th>\n",
       "      <td>DC</td>\n",
       "      <td>7.018644e-03</td>\n",
       "    </tr>\n",
       "    <tr>\n",
       "      <th>DE</th>\n",
       "      <td>DE</td>\n",
       "      <td>3.436620e-04</td>\n",
       "    </tr>\n",
       "    <tr>\n",
       "      <th>FL</th>\n",
       "      <td>FL</td>\n",
       "      <td>1.444081e-03</td>\n",
       "    </tr>\n",
       "    <tr>\n",
       "      <th>GA</th>\n",
       "      <td>GA</td>\n",
       "      <td>2.103715e-03</td>\n",
       "    </tr>\n",
       "    <tr>\n",
       "      <th>HI</th>\n",
       "      <td>HI</td>\n",
       "      <td>0.000000e+00</td>\n",
       "    </tr>\n",
       "    <tr>\n",
       "      <th>IA</th>\n",
       "      <td>IA</td>\n",
       "      <td>9.641890e-04</td>\n",
       "    </tr>\n",
       "    <tr>\n",
       "      <th>IL</th>\n",
       "      <td>IL</td>\n",
       "      <td>6.590622e-03</td>\n",
       "    </tr>\n",
       "    <tr>\n",
       "      <th>KS</th>\n",
       "      <td>KS</td>\n",
       "      <td>8.834008e-05</td>\n",
       "    </tr>\n",
       "    <tr>\n",
       "      <th>KY</th>\n",
       "      <td>KY</td>\n",
       "      <td>1.663760e-03</td>\n",
       "    </tr>\n",
       "    <tr>\n",
       "      <th>LA</th>\n",
       "      <td>LA</td>\n",
       "      <td>0.000000e+00</td>\n",
       "    </tr>\n",
       "    <tr>\n",
       "      <th>MD</th>\n",
       "      <td>MD</td>\n",
       "      <td>3.683278e-03</td>\n",
       "    </tr>\n",
       "    <tr>\n",
       "      <th>MI</th>\n",
       "      <td>MI</td>\n",
       "      <td>5.893858e-05</td>\n",
       "    </tr>\n",
       "    <tr>\n",
       "      <th>MN</th>\n",
       "      <td>MN</td>\n",
       "      <td>3.526621e-03</td>\n",
       "    </tr>\n",
       "    <tr>\n",
       "      <th>MO</th>\n",
       "      <td>MO</td>\n",
       "      <td>0.000000e+00</td>\n",
       "    </tr>\n",
       "    <tr>\n",
       "      <th>NC</th>\n",
       "      <td>NC</td>\n",
       "      <td>5.419537e-03</td>\n",
       "    </tr>\n",
       "    <tr>\n",
       "      <th>NE</th>\n",
       "      <td>NE</td>\n",
       "      <td>0.000000e+00</td>\n",
       "    </tr>\n",
       "    <tr>\n",
       "      <th>NJ</th>\n",
       "      <td>NJ</td>\n",
       "      <td>2.236638e-03</td>\n",
       "    </tr>\n",
       "    <tr>\n",
       "      <th>NM</th>\n",
       "      <td>NM</td>\n",
       "      <td>8.719150e-04</td>\n",
       "    </tr>\n",
       "    <tr>\n",
       "      <th>NV</th>\n",
       "      <td>NV</td>\n",
       "      <td>7.561436e-04</td>\n",
       "    </tr>\n",
       "    <tr>\n",
       "      <th>NY</th>\n",
       "      <td>NY</td>\n",
       "      <td>5.118131e-03</td>\n",
       "    </tr>\n",
       "    <tr>\n",
       "      <th>OH</th>\n",
       "      <td>OH</td>\n",
       "      <td>4.629816e-03</td>\n",
       "    </tr>\n",
       "    <tr>\n",
       "      <th>OK</th>\n",
       "      <td>OK</td>\n",
       "      <td>0.000000e+00</td>\n",
       "    </tr>\n",
       "    <tr>\n",
       "      <th>OR</th>\n",
       "      <td>OR</td>\n",
       "      <td>4.271866e-03</td>\n",
       "    </tr>\n",
       "    <tr>\n",
       "      <th>PA</th>\n",
       "      <td>PA</td>\n",
       "      <td>1.218690e-02</td>\n",
       "    </tr>\n",
       "    <tr>\n",
       "      <th>TN</th>\n",
       "      <td>TN</td>\n",
       "      <td>3.400323e-04</td>\n",
       "    </tr>\n",
       "    <tr>\n",
       "      <th>TX</th>\n",
       "      <td>TX</td>\n",
       "      <td>8.027925e-03</td>\n",
       "    </tr>\n",
       "    <tr>\n",
       "      <th>VA</th>\n",
       "      <td>VA</td>\n",
       "      <td>8.882122e-04</td>\n",
       "    </tr>\n",
       "    <tr>\n",
       "      <th>WA</th>\n",
       "      <td>WA</td>\n",
       "      <td>2.716095e-03</td>\n",
       "    </tr>\n",
       "    <tr>\n",
       "      <th>WI</th>\n",
       "      <td>WI</td>\n",
       "      <td>0.000000e+00</td>\n",
       "    </tr>\n",
       "  </tbody>\n",
       "</table>\n",
       "<p>2209 rows × 2 columns</p>\n",
       "</div>"
      ],
      "text/plain": [
       "             feature    importance\n",
       "feature                           \n",
       "000              000  5.443425e-04\n",
       "0101            0101  0.000000e+00\n",
       "0101 0180  0101 0180  0.000000e+00\n",
       "014              014  0.000000e+00\n",
       "0180            0180  0.000000e+00\n",
       "0180 0801  0180 0801  0.000000e+00\n",
       "03226          03226  7.014818e-05\n",
       "03226 17    03226 17  0.000000e+00\n",
       "05                05  0.000000e+00\n",
       "05 06          05 06  0.000000e+00\n",
       "05 de          05 de  0.000000e+00\n",
       "06                06  0.000000e+00\n",
       "06 deu        06 deu  0.000000e+00\n",
       "07                07  0.000000e+00\n",
       "07 10          07 10  0.000000e+00\n",
       "071917        071917  2.232522e-07\n",
       "071917 16  071917 16  0.000000e+00\n",
       "0801            0801  0.000000e+00\n",
       "0801 1550  0801 1550  0.000000e+00\n",
       "09                09  0.000000e+00\n",
       "09 11          09 11  0.000000e+00\n",
       "10                10  2.454122e-04\n",
       "10 it          10 it  0.000000e+00\n",
       "11                11  4.847112e-04\n",
       "11 12          11 12  0.000000e+00\n",
       "11 public  11 public  0.000000e+00\n",
       "12                12  0.000000e+00\n",
       "12 13          12 13  0.000000e+00\n",
       "12 deu        12 deu  0.000000e+00\n",
       "12726          12726  2.209134e-04\n",
       "...              ...           ...\n",
       "CT                CT  9.808302e-04\n",
       "DC                DC  7.018644e-03\n",
       "DE                DE  3.436620e-04\n",
       "FL                FL  1.444081e-03\n",
       "GA                GA  2.103715e-03\n",
       "HI                HI  0.000000e+00\n",
       "IA                IA  9.641890e-04\n",
       "IL                IL  6.590622e-03\n",
       "KS                KS  8.834008e-05\n",
       "KY                KY  1.663760e-03\n",
       "LA                LA  0.000000e+00\n",
       "MD                MD  3.683278e-03\n",
       "MI                MI  5.893858e-05\n",
       "MN                MN  3.526621e-03\n",
       "MO                MO  0.000000e+00\n",
       "NC                NC  5.419537e-03\n",
       "NE                NE  0.000000e+00\n",
       "NJ                NJ  2.236638e-03\n",
       "NM                NM  8.719150e-04\n",
       "NV                NV  7.561436e-04\n",
       "NY                NY  5.118131e-03\n",
       "OH                OH  4.629816e-03\n",
       "OK                OK  0.000000e+00\n",
       "OR                OR  4.271866e-03\n",
       "PA                PA  1.218690e-02\n",
       "TN                TN  3.400323e-04\n",
       "TX                TX  8.027925e-03\n",
       "VA                VA  8.882122e-04\n",
       "WA                WA  2.716095e-03\n",
       "WI                WI  0.000000e+00\n",
       "\n",
       "[2209 rows x 2 columns]"
      ]
     },
     "execution_count": 41,
     "metadata": {},
     "output_type": "execute_result"
    }
   ],
   "source": [
    "# Setting up a table to be used as visualization\n",
    "rffeatures = pd.DataFrame(dtrf2.feature_importances_)\n",
    "\n",
    "rfeatureindex = X_traincvloc.columns.tolist()\n",
    "\n",
    "findex = pd.DataFrame(rfeatureindex)\n",
    "\n",
    "rffeaturesfinal = pd.concat((findex, rffeatures), axis=1)\n",
    "\n",
    "rffeaturesfinal.columns = ['feature', 'importance']\n",
    "rffeaturesfinal.set_index(rffeaturesfinal['feature'])\n"
   ]
  },
  {
   "cell_type": "code",
   "execution_count": 42,
   "metadata": {
    "scrolled": true
   },
   "outputs": [
    {
     "name": "stdout",
     "output_type": "stream",
     "text": [
      "               feature  importance\n",
      "575     data scientist    0.070286\n",
      "556               data    0.038164\n",
      "133            analyst    0.022391\n",
      "1606  research analyst    0.022177\n",
      "1602          research    0.021156\n",
      "1693         scientist    0.020869\n",
      "711           engineer    0.016081\n",
      "1132           machine    0.014834\n",
      "1549      quantitative    0.014606\n",
      "179          analytics    0.013567\n",
      "1093          learning    0.013214\n",
      "2203                PA    0.012187\n",
      "2023        technician    0.011940\n",
      "1460         principal    0.010185\n",
      "564      data engineer    0.010031\n"
     ]
    }
   ],
   "source": [
    "print rffeaturesfinal.sort_values(by='importance', ascending=0).head(15)"
   ]
  },
  {
   "cell_type": "markdown",
   "metadata": {
    "focus": false,
    "id": "9367beff-72ba-4768-a0ba-a50b335de61d"
   },
   "source": [
    "#### Use cross-validation in scikit-learn to evaluate the model above. \n",
    "- Evaluate the accuracy of the model, as well as any other metrics you feel are appropriate. "
   ]
  },
  {
   "cell_type": "code",
   "execution_count": 91,
   "metadata": {
    "focus": false,
    "id": "269b9e7c-60b5-4a06-8255-881d7395bc1b"
   },
   "outputs": [
    {
     "name": "stdout",
     "output_type": "stream",
     "text": [
      "0.868364749648 0.0175067334059\n",
      "0.891139240506\n"
     ]
    }
   ],
   "source": [
    "s2 = cross_val_score(dtrf2, X_trainrf2, y_trainrf2)\n",
    "acc2 = accuracy_score(y_testrf2, y_pred2)\n",
    "\n",
    "print s2.mean(), s2.std()\n",
    "print acc2## YOUR CODE HERE"
   ]
  },
  {
   "cell_type": "markdown",
   "metadata": {},
   "source": [
    "#### Repeat the model-building process with a non-tree-based method."
   ]
  },
  {
   "cell_type": "code",
   "execution_count": 92,
   "metadata": {
    "collapsed": true
   },
   "outputs": [],
   "source": [
    "from sklearn.linear_model import LogisticRegression"
   ]
  },
  {
   "cell_type": "code",
   "execution_count": 93,
   "metadata": {
    "collapsed": true
   },
   "outputs": [],
   "source": [
    "Xlog = X_traincvloc\n",
    "ylog = y1\n",
    "\n",
    "X_train, X_test, Y_train, Y_test = train_test_split(Xlog, ylog, test_size=0.3)\n",
    "# Building Logistic Regression with Lasso regularization because of the sheer amount of variables. Lasso is more aggressive at driving variables to zero\n",
    "logreg = LogisticRegression(penalty='l1')\n",
    "logreg.fit(X_train, Y_train)\n",
    "Y_predlog = logreg.predict(X_test)"
   ]
  },
  {
   "cell_type": "code",
   "execution_count": 94,
   "metadata": {},
   "outputs": [
    {
     "name": "stdout",
     "output_type": "stream",
     "text": [
      "0.845503963438 0.0144593185221\n",
      "0.848101265823\n"
     ]
    }
   ],
   "source": [
    "slog = cross_val_score(logreg, X_train, Y_train)\n",
    "acclog = accuracy_score(Y_test, Y_predlog)\n",
    "\n",
    "print slog.mean(), slog.std()\n",
    "print acclog"
   ]
  },
  {
   "cell_type": "code",
   "execution_count": 115,
   "metadata": {
    "collapsed": true
   },
   "outputs": [
    {
     "data": {
      "text/html": [
       "<div>\n",
       "<style>\n",
       "    .dataframe thead tr:only-child th {\n",
       "        text-align: right;\n",
       "    }\n",
       "\n",
       "    .dataframe thead th {\n",
       "        text-align: left;\n",
       "    }\n",
       "\n",
       "    .dataframe tbody tr th {\n",
       "        vertical-align: top;\n",
       "    }\n",
       "</style>\n",
       "<table border=\"1\" class=\"dataframe\">\n",
       "  <thead>\n",
       "    <tr style=\"text-align: right;\">\n",
       "      <th></th>\n",
       "      <th>word</th>\n",
       "      <th>coef</th>\n",
       "    </tr>\n",
       "    <tr>\n",
       "      <th>word</th>\n",
       "      <th></th>\n",
       "      <th></th>\n",
       "    </tr>\n",
       "  </thead>\n",
       "  <tbody>\n",
       "    <tr>\n",
       "      <th>000</th>\n",
       "      <td>000</td>\n",
       "      <td>0.000000</td>\n",
       "    </tr>\n",
       "    <tr>\n",
       "      <th>0101</th>\n",
       "      <td>0101</td>\n",
       "      <td>0.000000</td>\n",
       "    </tr>\n",
       "    <tr>\n",
       "      <th>0101 0180</th>\n",
       "      <td>0101 0180</td>\n",
       "      <td>0.000000</td>\n",
       "    </tr>\n",
       "    <tr>\n",
       "      <th>014</th>\n",
       "      <td>014</td>\n",
       "      <td>0.000000</td>\n",
       "    </tr>\n",
       "    <tr>\n",
       "      <th>0180</th>\n",
       "      <td>0180</td>\n",
       "      <td>0.000000</td>\n",
       "    </tr>\n",
       "    <tr>\n",
       "      <th>0180 0801</th>\n",
       "      <td>0180 0801</td>\n",
       "      <td>0.000000</td>\n",
       "    </tr>\n",
       "    <tr>\n",
       "      <th>03226</th>\n",
       "      <td>03226</td>\n",
       "      <td>0.000000</td>\n",
       "    </tr>\n",
       "    <tr>\n",
       "      <th>03226 17</th>\n",
       "      <td>03226 17</td>\n",
       "      <td>0.000000</td>\n",
       "    </tr>\n",
       "    <tr>\n",
       "      <th>05</th>\n",
       "      <td>05</td>\n",
       "      <td>0.000000</td>\n",
       "    </tr>\n",
       "    <tr>\n",
       "      <th>05 06</th>\n",
       "      <td>05 06</td>\n",
       "      <td>0.000000</td>\n",
       "    </tr>\n",
       "    <tr>\n",
       "      <th>05 de</th>\n",
       "      <td>05 de</td>\n",
       "      <td>0.000000</td>\n",
       "    </tr>\n",
       "    <tr>\n",
       "      <th>06</th>\n",
       "      <td>06</td>\n",
       "      <td>0.000000</td>\n",
       "    </tr>\n",
       "    <tr>\n",
       "      <th>06 deu</th>\n",
       "      <td>06 deu</td>\n",
       "      <td>0.000000</td>\n",
       "    </tr>\n",
       "    <tr>\n",
       "      <th>07</th>\n",
       "      <td>07</td>\n",
       "      <td>0.000000</td>\n",
       "    </tr>\n",
       "    <tr>\n",
       "      <th>07 10</th>\n",
       "      <td>07 10</td>\n",
       "      <td>0.000000</td>\n",
       "    </tr>\n",
       "    <tr>\n",
       "      <th>071917</th>\n",
       "      <td>071917</td>\n",
       "      <td>0.000000</td>\n",
       "    </tr>\n",
       "    <tr>\n",
       "      <th>071917 16</th>\n",
       "      <td>071917 16</td>\n",
       "      <td>0.000000</td>\n",
       "    </tr>\n",
       "    <tr>\n",
       "      <th>0801</th>\n",
       "      <td>0801</td>\n",
       "      <td>0.000000</td>\n",
       "    </tr>\n",
       "    <tr>\n",
       "      <th>0801 1550</th>\n",
       "      <td>0801 1550</td>\n",
       "      <td>0.000000</td>\n",
       "    </tr>\n",
       "    <tr>\n",
       "      <th>09</th>\n",
       "      <td>09</td>\n",
       "      <td>0.000000</td>\n",
       "    </tr>\n",
       "    <tr>\n",
       "      <th>09 11</th>\n",
       "      <td>09 11</td>\n",
       "      <td>0.000000</td>\n",
       "    </tr>\n",
       "    <tr>\n",
       "      <th>10</th>\n",
       "      <td>10</td>\n",
       "      <td>0.000000</td>\n",
       "    </tr>\n",
       "    <tr>\n",
       "      <th>10 it</th>\n",
       "      <td>10 it</td>\n",
       "      <td>0.000000</td>\n",
       "    </tr>\n",
       "    <tr>\n",
       "      <th>11</th>\n",
       "      <td>11</td>\n",
       "      <td>0.000000</td>\n",
       "    </tr>\n",
       "    <tr>\n",
       "      <th>11 12</th>\n",
       "      <td>11 12</td>\n",
       "      <td>0.000000</td>\n",
       "    </tr>\n",
       "    <tr>\n",
       "      <th>11 public</th>\n",
       "      <td>11 public</td>\n",
       "      <td>0.000000</td>\n",
       "    </tr>\n",
       "    <tr>\n",
       "      <th>12</th>\n",
       "      <td>12</td>\n",
       "      <td>0.000000</td>\n",
       "    </tr>\n",
       "    <tr>\n",
       "      <th>12 13</th>\n",
       "      <td>12 13</td>\n",
       "      <td>0.000000</td>\n",
       "    </tr>\n",
       "    <tr>\n",
       "      <th>12 deu</th>\n",
       "      <td>12 deu</td>\n",
       "      <td>0.000000</td>\n",
       "    </tr>\n",
       "    <tr>\n",
       "      <th>12726</th>\n",
       "      <td>12726</td>\n",
       "      <td>0.000000</td>\n",
       "    </tr>\n",
       "    <tr>\n",
       "      <th>...</th>\n",
       "      <td>...</td>\n",
       "      <td>...</td>\n",
       "    </tr>\n",
       "    <tr>\n",
       "      <th>CT</th>\n",
       "      <td>CT</td>\n",
       "      <td>0.000000</td>\n",
       "    </tr>\n",
       "    <tr>\n",
       "      <th>DC</th>\n",
       "      <td>DC</td>\n",
       "      <td>1.723038</td>\n",
       "    </tr>\n",
       "    <tr>\n",
       "      <th>DE</th>\n",
       "      <td>DE</td>\n",
       "      <td>0.045242</td>\n",
       "    </tr>\n",
       "    <tr>\n",
       "      <th>FL</th>\n",
       "      <td>FL</td>\n",
       "      <td>-0.210710</td>\n",
       "    </tr>\n",
       "    <tr>\n",
       "      <th>GA</th>\n",
       "      <td>GA</td>\n",
       "      <td>0.000000</td>\n",
       "    </tr>\n",
       "    <tr>\n",
       "      <th>HI</th>\n",
       "      <td>HI</td>\n",
       "      <td>0.000000</td>\n",
       "    </tr>\n",
       "    <tr>\n",
       "      <th>IA</th>\n",
       "      <td>IA</td>\n",
       "      <td>0.000000</td>\n",
       "    </tr>\n",
       "    <tr>\n",
       "      <th>IL</th>\n",
       "      <td>IL</td>\n",
       "      <td>0.000000</td>\n",
       "    </tr>\n",
       "    <tr>\n",
       "      <th>KS</th>\n",
       "      <td>KS</td>\n",
       "      <td>0.000000</td>\n",
       "    </tr>\n",
       "    <tr>\n",
       "      <th>KY</th>\n",
       "      <td>KY</td>\n",
       "      <td>0.000000</td>\n",
       "    </tr>\n",
       "    <tr>\n",
       "      <th>LA</th>\n",
       "      <td>LA</td>\n",
       "      <td>0.000000</td>\n",
       "    </tr>\n",
       "    <tr>\n",
       "      <th>MD</th>\n",
       "      <td>MD</td>\n",
       "      <td>0.000000</td>\n",
       "    </tr>\n",
       "    <tr>\n",
       "      <th>MI</th>\n",
       "      <td>MI</td>\n",
       "      <td>0.000000</td>\n",
       "    </tr>\n",
       "    <tr>\n",
       "      <th>MN</th>\n",
       "      <td>MN</td>\n",
       "      <td>0.000000</td>\n",
       "    </tr>\n",
       "    <tr>\n",
       "      <th>MO</th>\n",
       "      <td>MO</td>\n",
       "      <td>0.000000</td>\n",
       "    </tr>\n",
       "    <tr>\n",
       "      <th>NC</th>\n",
       "      <td>NC</td>\n",
       "      <td>0.438789</td>\n",
       "    </tr>\n",
       "    <tr>\n",
       "      <th>NE</th>\n",
       "      <td>NE</td>\n",
       "      <td>0.000000</td>\n",
       "    </tr>\n",
       "    <tr>\n",
       "      <th>NJ</th>\n",
       "      <td>NJ</td>\n",
       "      <td>1.342888</td>\n",
       "    </tr>\n",
       "    <tr>\n",
       "      <th>NM</th>\n",
       "      <td>NM</td>\n",
       "      <td>-0.130781</td>\n",
       "    </tr>\n",
       "    <tr>\n",
       "      <th>NV</th>\n",
       "      <td>NV</td>\n",
       "      <td>0.000000</td>\n",
       "    </tr>\n",
       "    <tr>\n",
       "      <th>NY</th>\n",
       "      <td>NY</td>\n",
       "      <td>0.048032</td>\n",
       "    </tr>\n",
       "    <tr>\n",
       "      <th>OH</th>\n",
       "      <td>OH</td>\n",
       "      <td>0.000000</td>\n",
       "    </tr>\n",
       "    <tr>\n",
       "      <th>OK</th>\n",
       "      <td>OK</td>\n",
       "      <td>0.000000</td>\n",
       "    </tr>\n",
       "    <tr>\n",
       "      <th>OR</th>\n",
       "      <td>OR</td>\n",
       "      <td>-2.186808</td>\n",
       "    </tr>\n",
       "    <tr>\n",
       "      <th>PA</th>\n",
       "      <td>PA</td>\n",
       "      <td>0.929449</td>\n",
       "    </tr>\n",
       "    <tr>\n",
       "      <th>TN</th>\n",
       "      <td>TN</td>\n",
       "      <td>0.000000</td>\n",
       "    </tr>\n",
       "    <tr>\n",
       "      <th>TX</th>\n",
       "      <td>TX</td>\n",
       "      <td>0.000000</td>\n",
       "    </tr>\n",
       "    <tr>\n",
       "      <th>VA</th>\n",
       "      <td>VA</td>\n",
       "      <td>-0.975691</td>\n",
       "    </tr>\n",
       "    <tr>\n",
       "      <th>WA</th>\n",
       "      <td>WA</td>\n",
       "      <td>-0.073836</td>\n",
       "    </tr>\n",
       "    <tr>\n",
       "      <th>WI</th>\n",
       "      <td>WI</td>\n",
       "      <td>0.000000</td>\n",
       "    </tr>\n",
       "  </tbody>\n",
       "</table>\n",
       "<p>2209 rows × 2 columns</p>\n",
       "</div>"
      ],
      "text/plain": [
       "                word      coef\n",
       "word                          \n",
       "000              000  0.000000\n",
       "0101            0101  0.000000\n",
       "0101 0180  0101 0180  0.000000\n",
       "014              014  0.000000\n",
       "0180            0180  0.000000\n",
       "0180 0801  0180 0801  0.000000\n",
       "03226          03226  0.000000\n",
       "03226 17    03226 17  0.000000\n",
       "05                05  0.000000\n",
       "05 06          05 06  0.000000\n",
       "05 de          05 de  0.000000\n",
       "06                06  0.000000\n",
       "06 deu        06 deu  0.000000\n",
       "07                07  0.000000\n",
       "07 10          07 10  0.000000\n",
       "071917        071917  0.000000\n",
       "071917 16  071917 16  0.000000\n",
       "0801            0801  0.000000\n",
       "0801 1550  0801 1550  0.000000\n",
       "09                09  0.000000\n",
       "09 11          09 11  0.000000\n",
       "10                10  0.000000\n",
       "10 it          10 it  0.000000\n",
       "11                11  0.000000\n",
       "11 12          11 12  0.000000\n",
       "11 public  11 public  0.000000\n",
       "12                12  0.000000\n",
       "12 13          12 13  0.000000\n",
       "12 deu        12 deu  0.000000\n",
       "12726          12726  0.000000\n",
       "...              ...       ...\n",
       "CT                CT  0.000000\n",
       "DC                DC  1.723038\n",
       "DE                DE  0.045242\n",
       "FL                FL -0.210710\n",
       "GA                GA  0.000000\n",
       "HI                HI  0.000000\n",
       "IA                IA  0.000000\n",
       "IL                IL  0.000000\n",
       "KS                KS  0.000000\n",
       "KY                KY  0.000000\n",
       "LA                LA  0.000000\n",
       "MD                MD  0.000000\n",
       "MI                MI  0.000000\n",
       "MN                MN  0.000000\n",
       "MO                MO  0.000000\n",
       "NC                NC  0.438789\n",
       "NE                NE  0.000000\n",
       "NJ                NJ  1.342888\n",
       "NM                NM -0.130781\n",
       "NV                NV  0.000000\n",
       "NY                NY  0.048032\n",
       "OH                OH  0.000000\n",
       "OK                OK  0.000000\n",
       "OR                OR -2.186808\n",
       "PA                PA  0.929449\n",
       "TN                TN  0.000000\n",
       "TX                TX  0.000000\n",
       "VA                VA -0.975691\n",
       "WA                WA -0.073836\n",
       "WI                WI  0.000000\n",
       "\n",
       "[2209 rows x 2 columns]"
      ]
     },
     "execution_count": 115,
     "metadata": {},
     "output_type": "execute_result"
    }
   ],
   "source": [
    "#More tables for visualization\n",
    "coefs = pd.DataFrame(logreg.coef_)\n",
    "coeftable = coefs.transpose()\n",
    "featureindex = Xlog.columns.tolist()\n",
    "# coeftable.set_index(featureindex)\n",
    "fidf = pd.DataFrame(featureindex)\n",
    "# fidftable = fidf.transpose()\n",
    "coefinal = pd.concat((fidf, coeftable), axis=1)\n",
    "coefinal.columns = ['word', 'coef']\n",
    "coefinal.set_index(coefinal['word'])\n",
    "\n",
    "\n"
   ]
  },
  {
   "cell_type": "code",
   "execution_count": 117,
   "metadata": {},
   "outputs": [
    {
     "name": "stdout",
     "output_type": "stream",
     "text": [
      "                     word      coef\n",
      "1549         quantitative  4.220663\n",
      "638              director  3.114594\n",
      "1932  statistical analyst  2.889961\n",
      "1983          supervisory  2.861279\n",
      "179             analytics  2.359216\n",
      "1661                sales  2.334635\n",
      "1460            principal  2.164747\n",
      "1113                legal  2.096409\n",
      "998    institute research  1.862427\n",
      "245             architect  1.832463\n",
      "                     word      coef\n",
      "1607         research and -2.579913\n",
      "275             associate -2.676813\n",
      "1018           internship -3.250897\n",
      "1728   scientist engineer -3.259492\n",
      "1835  senior statistician -3.398528\n"
     ]
    }
   ],
   "source": [
    "print coefinal.sort_values(by='coef', ascending=0).head(10) \n",
    "print coefinal.sort_values(by='coef', ascending=0).tail(5)"
   ]
  },
  {
   "cell_type": "code",
   "execution_count": null,
   "metadata": {
    "collapsed": true
   },
   "outputs": [],
   "source": []
  },
  {
   "cell_type": "markdown",
   "metadata": {
    "focus": false,
    "id": "3be94357-e551-4094-b784-2df039216d33"
   },
   "source": [
    "### BONUS "
   ]
  },
  {
   "cell_type": "markdown",
   "metadata": {
    "focus": false,
    "id": "db045898-1d2d-4af2-8e79-437c4c7546b4"
   },
   "source": [
    "#### Bonus: Use Count Vectorizer from scikit-learn to create features from the job descriptions. \n",
    "- Examine using count or binary features in the model\n",
    "- Re-evaluate your models using these. Does this improve the model performance? \n",
    "- What text features are the most valuable? "
   ]
  },
  {
   "cell_type": "markdown",
   "metadata": {},
   "source": [
    "#For bonus question I will be using another file I scraped because I did not include the summary snippet during my first sweep. I didnt use this data for the main project because it had 40% fewer data points."
   ]
  },
  {
   "cell_type": "code",
   "execution_count": 47,
   "metadata": {
    "collapsed": true
   },
   "outputs": [
    {
     "name": "stderr",
     "output_type": "stream",
     "text": [
      "/anaconda/lib/python2.7/site-packages/sklearn/grid_search.py:43: DeprecationWarning: This module was deprecated in version 0.18 in favor of the model_selection module into which all the refactored classes and functions are moved. This module will be removed in 0.20.\n",
      "  DeprecationWarning)\n"
     ]
    }
   ],
   "source": [
    "from sklearn.grid_search import GridSearchCV"
   ]
  },
  {
   "cell_type": "code",
   "execution_count": 52,
   "metadata": {},
   "outputs": [
    {
     "data": {
      "text/plain": [
       "GridSearchCV(cv=None, error_score='raise',\n",
       "       estimator=RandomForestClassifier(bootstrap=True, class_weight=None, criterion='gini',\n",
       "            max_depth=None, max_features='auto', max_leaf_nodes=None,\n",
       "            min_impurity_split=1e-07, min_samples_leaf=1,\n",
       "            min_samples_split=2, min_weight_fraction_leaf=0.0,\n",
       "            n_estimators=10, n_jobs=1, oob_score=False, random_state=None,\n",
       "            verbose=0, warm_start=False),\n",
       "       fit_params={}, iid=True, n_jobs=1,\n",
       "       param_grid={'n_estimators': [1, 2, 3, 4, 5, 6, 7, 8, 9, 10, 11, 12, 13, 14], 'max_depth': [1, 2, 3, 4, 5, 6, 7, 8, 9, 10, 11, 12, 13, 14]},\n",
       "       pre_dispatch='2*n_jobs', refit=True, scoring=None, verbose=0)"
      ]
     },
     "execution_count": 52,
     "metadata": {},
     "output_type": "execute_result"
    }
   ],
   "source": [
    "estimators = range(1, 15)\n",
    "param_grid = dict(n_estimators = estimators, max_depth=estimators)\n",
    "grid1 = GridSearchCV(dtrf2, param_grid)\n",
    "grid1.fit(X_trainrf2, y_trainrf2)"
   ]
  },
  {
   "cell_type": "code",
   "execution_count": 51,
   "metadata": {},
   "outputs": [
    {
     "name": "stdout",
     "output_type": "stream",
     "text": [
      "0.873775843308\n",
      "{'n_estimators': 12}\n",
      "RandomForestClassifier(bootstrap=True, class_weight=None, criterion='gini',\n",
      "            max_depth=None, max_features='auto', max_leaf_nodes=None,\n",
      "            min_impurity_split=1e-07, min_samples_leaf=1,\n",
      "            min_samples_split=2, min_weight_fraction_leaf=0.0,\n",
      "            n_estimators=12, n_jobs=1, oob_score=False, random_state=None,\n",
      "            verbose=0, warm_start=False)\n"
     ]
    }
   ],
   "source": [
    "print grid1.best_score_\n",
    "print grid1.best_params_\n",
    "print grid1.best_estimator_"
   ]
  },
  {
   "cell_type": "code",
   "execution_count": null,
   "metadata": {
    "collapsed": true
   },
   "outputs": [],
   "source": []
  },
  {
   "cell_type": "code",
   "execution_count": null,
   "metadata": {
    "collapsed": true
   },
   "outputs": [],
   "source": []
  },
  {
   "cell_type": "code",
   "execution_count": null,
   "metadata": {
    "collapsed": true
   },
   "outputs": [],
   "source": [
    "## From here on, I'm using a scraped set that captured summary"
   ]
  },
  {
   "cell_type": "code",
   "execution_count": 118,
   "metadata": {
    "collapsed": true,
    "focus": false,
    "id": "4239e458-28bd-4675-8db3-c1d9c02b9854"
   },
   "outputs": [],
   "source": [
    "bondata = pd.read_csv('/Users/andresgonzalez/Desktop/GA/curriculum/Project_3/datafinal.csv') \n"
   ]
  },
  {
   "cell_type": "code",
   "execution_count": 119,
   "metadata": {
    "collapsed": true
   },
   "outputs": [],
   "source": [
    "bonnew_data = bondata.salary.apply(salary_to_float)\n",
    "bondata['float_salary'] = bonnew_data"
   ]
  },
  {
   "cell_type": "code",
   "execution_count": 120,
   "metadata": {
    "collapsed": true
   },
   "outputs": [],
   "source": [
    "median = np.median(bondata['float_salary'])"
   ]
  },
  {
   "cell_type": "code",
   "execution_count": 121,
   "metadata": {
    "collapsed": true
   },
   "outputs": [],
   "source": [
    "bondata['salaryovermedian'] = np.where(bondata['float_salary'] > median, 1,0)"
   ]
  },
  {
   "cell_type": "code",
   "execution_count": 122,
   "metadata": {
    "collapsed": true
   },
   "outputs": [],
   "source": [
    "bondata.summary = bondata.summary.str.lower()"
   ]
  },
  {
   "cell_type": "code",
   "execution_count": 123,
   "metadata": {
    "collapsed": true
   },
   "outputs": [],
   "source": [
    "corpus = bondata.summary\n",
    "cvecbon = CountVectorizer(ngram_range=(1, 2), stop_words = 'english')\n",
    "cvecbon.fit(corpus)\n",
    "# Take the vectorize result and make it into a panda ready to be used in a model\n",
    "X_bonus = pd.DataFrame(cvecbon.transform(corpus).todense(),\n",
    "                       columns=cvecbon.get_feature_names())"
   ]
  },
  {
   "cell_type": "code",
   "execution_count": 124,
   "metadata": {
    "collapsed": true
   },
   "outputs": [],
   "source": [
    "ybon = bondata['salaryovermedian']"
   ]
  },
  {
   "cell_type": "code",
   "execution_count": 127,
   "metadata": {
    "collapsed": true
   },
   "outputs": [],
   "source": [
    "X_trainbon, X_testbon, y_trainbon, y_testbon = train_test_split(X_bonus, ybon, test_size=.3, random_state=66)"
   ]
  },
  {
   "cell_type": "code",
   "execution_count": 128,
   "metadata": {},
   "outputs": [
    {
     "name": "stdout",
     "output_type": "stream",
     "text": [
      "0.742063492063 0.0184000366974\n",
      "0.773148148148\n"
     ]
    }
   ],
   "source": [
    "dtbon = RandomForestClassifier()\n",
    "dtbon.fit(X_trainbon, y_trainbon)\n",
    "y_predbon = dtbon.predict(X_testbon)\n",
    "\n",
    "sbon = cross_val_score(dtbon, X_trainbon, y_trainbon)\n",
    "accbon = accuracy_score(y_testbon, y_predbon)\n",
    "\n",
    "print sbon.mean(), sbon.std()\n",
    "print accbon"
   ]
  },
  {
   "cell_type": "code",
   "execution_count": 130,
   "metadata": {},
   "outputs": [
    {
     "name": "stdout",
     "output_type": "stream",
     "text": [
      "               feature  importance\n",
      "4222          learning    0.047773\n",
      "4438  machine learning    0.020090\n",
      "433          analytics    0.012781\n",
      "1917   data scientists    0.011960\n",
      "7475       statistical    0.010392\n",
      "1785              data    0.009339\n",
      "1050              care    0.008744\n",
      "1916    data scientist    0.008524\n",
      "6417          research    0.008081\n",
      "2694             entry    0.007907\n",
      "6094            python    0.007632\n",
      "2583          engineer    0.007007\n",
      "3397            health    0.006537\n",
      "1423           company    0.005703\n",
      "6724           science    0.004655\n"
     ]
    }
   ],
   "source": [
    "bonfeat = pd.DataFrame(dtbon.feature_importances_)\n",
    "\n",
    "bonfeatindex = X_bonus.columns.tolist()\n",
    "\n",
    "bonindex = pd.DataFrame(bonfeatindex)\n",
    "\n",
    "bonfinal = pd.concat((bonindex, bonfeat), axis=1)\n",
    "\n",
    "bonfinal.columns = ['feature', 'importance']\n",
    "print bonfinal.sort_values(by='importance', ascending=0).head(15)\n",
    "\n"
   ]
  },
  {
   "cell_type": "code",
   "execution_count": null,
   "metadata": {
    "collapsed": true
   },
   "outputs": [],
   "source": []
  },
  {
   "cell_type": "code",
   "execution_count": null,
   "metadata": {
    "collapsed": true
   },
   "outputs": [],
   "source": []
  },
  {
   "cell_type": "code",
   "execution_count": null,
   "metadata": {
    "collapsed": true
   },
   "outputs": [],
   "source": []
  },
  {
   "cell_type": "code",
   "execution_count": null,
   "metadata": {
    "collapsed": true
   },
   "outputs": [],
   "source": []
  }
 ],
 "metadata": {
  "anaconda-cloud": {},
  "kernelspec": {
   "display_name": "Python 2",
   "language": "python",
   "name": "python2"
  },
  "language_info": {
   "codemirror_mode": {
    "name": "ipython",
    "version": 2
   },
   "file_extension": ".py",
   "mimetype": "text/x-python",
   "name": "python",
   "nbconvert_exporter": "python",
   "pygments_lexer": "ipython2",
   "version": "2.7.13"
  }
 },
 "nbformat": 4,
 "nbformat_minor": 1
}
